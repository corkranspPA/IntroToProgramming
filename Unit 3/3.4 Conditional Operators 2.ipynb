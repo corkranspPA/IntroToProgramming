{
 "cells": [
  {
   "cell_type": "markdown",
   "metadata": {},
   "source": [
    "# Conditional Operators - Advanced\n",
    "\n",
    "Often, you might find you want to check two or more conditions and react to all\n",
    "of them in a specific way.  For example, in many countries, notably the U.S.,\n",
    "you must be of age of majority **and** hold citizenship in that\n",
    "country.  Many business offer discounts to those younger than the age of\n",
    "majority **or** old enough to be a senior.\n",
    "\n",
    "`AND`, `OR`, and `NOT` are the three simple logic operators, and we will go\n",
    "through them one at a time so that you understand how they all work.\n",
    "\n",
    "## AND &&\n",
    "The **and** operator is written with two ampersands: `&&`. When used with\n",
    "booleans, `&&` returns true if all operands are true. If one or both operands\n",
    "are false, `&&` will return false.  Try it out below!"
   ]
  },
  {
   "cell_type": "code",
   "execution_count": null,
   "metadata": {},
   "outputs": [],
   "source": [
    "console.log(true && true); //Expected output: true\n",
    "console.log(true && false); //Expected output: false\n",
    "console.log(false && false); //Expected output: false\n",
    "\n",
    "let x = 15;\n",
    "console.log(x >= 10 && x < 20) //Is x between 10 and 19? Expected output: true"
   ]
  },
  {
   "cell_type": "markdown",
   "metadata": {},
   "source": [
    "## OR ||\n",
    "The **or** operator is written with two vertical pipes: `||`.  You can find that\n",
    "key between Backspace and Enter (Delete and Return on Macs).  When used with\n",
    "booleans, `||` returns true if any operands are true. If both operands\n",
    "are false, `||` will return false.  See it in action below!"
   ]
  },
  {
   "cell_type": "code",
   "execution_count": null,
   "metadata": {},
   "outputs": [],
   "source": [
    "console.log(true || true); //Expected output: true\n",
    "console.log(true || false); //Expected output: true\n",
    "console.log(false || false); //Expected output: false"
   ]
  },
  {
   "cell_type": "markdown",
   "metadata": {},
   "source": [
    "## NOT !\n",
    "\n",
    "Logical not is written with a single exclamation point: !.  Unlike AND and OR,\n",
    "NOT accepts one operand.  It returns false if the operand can convert to true,\n",
    "otherwise, it returns true."
   ]
  },
  {
   "cell_type": "code",
   "execution_count": null,
   "metadata": {},
   "outputs": [],
   "source": [
    "console.log(!true); //Expected output: false\n",
    "console.log(!false); //Expected output: true"
   ]
  }
 ],
 "metadata": {
  "kernelspec": {
   "display_name": "JavaScript",
   "language": "javascript",
   "name": "jslab"
  },
  "language_info": {
   "file_extension": ".js",
   "mimetype": "text/javascript",
   "name": "javascript",
   "version": ""
  },
  "orig_nbformat": 4
 },
 "nbformat": 4,
 "nbformat_minor": 2
}
