{
 "cells": [
  {
   "cell_type": "markdown",
   "metadata": {},
   "source": [
    "# Loops\n",
    "\n",
    "Loops are arguably one of the most powerful programming tools we have available\n",
    "to us.  Loops are really what enable programmers to harness the speed and\n",
    "precision of computers, and they will open up thousands of possibilities for us.\n",
    "\n",
    "## While\n",
    "\n",
    "`While` statements are the simplest form of loop.  Right away, you'll notice\n",
    "that they look a *lot* like the `if` statements we learned about, and they\n",
    "behave in almost the exact same way.\n",
    "\n",
    "```javascript\n",
    "while (expression) {\n",
    "   Statement(s) to be executed while expression is true\n",
    "}\n",
    "```\n",
    "\n",
    "If the expression is false, the enclosed code statements will not run, just like\n",
    "an `if`.  The  difference between `if` and `while` only becomes apparent once\n",
    "they execute.  When an `if` is executed and reaches the closing curly bracket,\n",
    "it ends and continues onwards.  A `while`, on the other hand, **actually goes back\n",
    "up and checks the conditional expression again.**  If the expression evaluates\n",
    "to `true` again, the code runs again.  And again.  And again, until the condition\n",
    "evaluates to `false`.\n",
    "\n",
    "Essentially, a loop will trap your computer inside of your code until some\n",
    "condition is reached.  Below, you'll see an example of a `while` loop being used\n",
    "to count from 0 to 9."
   ]
  },
  {
   "cell_type": "code",
   "execution_count": 1,
   "metadata": {},
   "outputs": [
    {
     "name": "stdout",
     "output_type": "stream",
     "text": [
      "0\n",
      "1\n",
      "2\n",
      "3\n",
      "4\n",
      "5\n",
      "6\n",
      "7\n",
      "8\n",
      "9\n"
     ]
    }
   ],
   "source": [
    "let count = 0;\n",
    "console.log('starting loop...')\n",
    "while(count < 10) {\n",
    "    console.log(count);\n",
    "    count++; //Do you remember the increment operator? If not, see Unit 1/Data Types.ipynb again!\n",
    "}\n",
    "console.log('loop finished!');"
   ]
  },
  {
   "cell_type": "markdown",
   "metadata": {},
   "source": [
    "When you run the code above, the first thing to happen is the creation of a\n",
    "variable we will use to keep track of our count.  Then, we launch into the loop.\n",
    "`while count` is `less than 10`, we print the current value of count, then\n",
    "**increment** the value of count by 1 using the increment operator (++).  Then,\n",
    "the code loops back to the top and checks whether count is still less than ten.\n",
    "\n",
    "After the tenth run, count will be set to 10.  Because `10 < 10` evaluates the\n",
    "false, the loop now ends and the program can continue onwards.\n",
    "\n",
    "We can now process huge reams of data with just a few lines of code.  The\n",
    "applications for this are limitless.\n",
    "\n",
    "### Infinite loops\n",
    "\n",
    "Watch out!  You must be certain that the loop will eventually reach its goal and\n",
    "stop.  Otherwise, your loop will operate forever and must be manually terminated by\n",
    "either the operating system or you, the user.\n",
    "\n",
    "When you run the code cell below, it will actually lock up Grader Than (what\n",
    "they call the 'kernel').  You must press the Stop square to halt the program,\n",
    "then agree to restart the kernel once the website realizes it has crashed.  Fun!"
   ]
  },
  {
   "cell_type": "code",
   "execution_count": null,
   "metadata": {},
   "outputs": [],
   "source": [
    "let count = 0;\n",
    "console.log('starting loop...')\n",
    "while(count < 10) {\n",
    "    console.log(count);\n",
    "    count--; //We are decrementing now! count will NEVER reach 10 like this.\n",
    "}\n",
    "console.log('loop finished!');"
   ]
  },
  {
   "cell_type": "markdown",
   "metadata": {},
   "source": [
    "**Increment** `++` and **decrement** `--` are very common with loops, but not\n",
    "required.  You can use rolling addition or even just regular assignment as well.\n",
    "Below is an example that counts up by 2 from 10 until we hit 20."
   ]
  },
  {
   "cell_type": "code",
   "execution_count": 2,
   "metadata": {},
   "outputs": [
    {
     "name": "stdout",
     "output_type": "stream",
     "text": [
      "10\n",
      "12\n",
      "14\n",
      "16\n",
      "18\n",
      "20\n"
     ]
    }
   ],
   "source": [
    "let count = 10;\n",
    "while(count <= 20) {\n",
    "    console.log(count);\n",
    "    count += 2; //Add 2 to count each loop\n",
    "}"
   ]
  },
  {
   "cell_type": "markdown",
   "metadata": {},
   "source": [
    "## For\n",
    "\n",
    "A `for` loop is functionally identical to a while loop.  You can use whichever\n",
    "one you prefer, but in the real world you will see `for` a lot more, as it tends\n",
    "to make the loop easier to write and read at a glance... at least, once you're\n",
    "used to them!  Below, we've converted the `while` loops you just saw to `for` loops."
   ]
  },
  {
   "cell_type": "code",
   "execution_count": null,
   "metadata": {},
   "outputs": [],
   "source": [
    "console.log('starting loop...');\n",
    "for(let count = 0; count < 10; count++) {\n",
    "    console.log(count);\n",
    "}\n",
    "console.log('loop finished!');"
   ]
  },
  {
   "cell_type": "markdown",
   "metadata": {},
   "source": [
    "You'll notice that the declaration of the counting variable, as well as the\n",
    "incrementing of the counting variable, has been moved inside of the `for`\n",
    "statement.  This makes code easier to read at a glance, since all of the\n",
    "important info for the loop is inside of those parenthesis now."
   ]
  },
  {
   "cell_type": "code",
   "execution_count": null,
   "metadata": {},
   "outputs": [],
   "source": [
    "console.log('starting loop...');\n",
    "for(let count = 0; count < 10; count--) {\n",
    "    console.log(count);\n",
    "}\n",
    "console.log('loop finished!');"
   ]
  },
  {
   "cell_type": "code",
   "execution_count": 1,
   "metadata": {},
   "outputs": [
    {
     "name": "stdout",
     "output_type": "stream",
     "text": [
      "starting loop...\n",
      "10\n",
      "12\n",
      "14\n",
      "16\n",
      "18\n",
      "20\n",
      "loop finished!\n"
     ]
    }
   ],
   "source": [
    "console.log('starting loop...');\n",
    "for(let count = 10; count <= 20; count += 2) {\n",
    "    console.log(count);\n",
    "}\n",
    "console.log('loop finished!');"
   ]
  },
  {
   "cell_type": "markdown",
   "metadata": {},
   "source": [
    "\n",
    "Again, although `for` is typically preferred for loops with a specific goal (such as,\n",
    "'three attempts to enter a password', or 'shuffle all songs in playlist'), you\n",
    "may use `while` with no real downside."
   ]
  }
 ],
 "metadata": {
  "kernelspec": {
   "display_name": "JavaScript",
   "language": "javascript",
   "name": "jslab"
  },
  "language_info": {
   "file_extension": ".js",
   "mimetype": "text/javascript",
   "name": "javascript",
   "version": ""
  },
  "orig_nbformat": 4
 },
 "nbformat": 4,
 "nbformat_minor": 2
}
