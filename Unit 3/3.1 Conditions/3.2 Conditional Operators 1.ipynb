{
 "cells": [
  {
   "cell_type": "markdown",
   "metadata": {},
   "source": [
    "# Conditional Operators - Basic\n",
    "\n",
    "A **conditional operator** will always evaluate to a boolean value (`true` or `false`).  Some of\n",
    "them will be very familiar to you, others maybe not so much.\n",
    "\n",
    "| Operator | Description |\n",
    "| ----------- | ----------- |\n",
    "| > | greater than |\n",
    "| < | less than |\n",
    "| >= | greater than or equal to |\n",
    "| <= | less than or equal to |\n",
    "| == | equal to |\n",
    "| != | is not equal to |\n",
    "\n",
    "Let's see these in action."
   ]
  },
  {
   "cell_type": "code",
   "execution_count": null,
   "metadata": {},
   "outputs": [],
   "source": [
    "console.log('ten is greater than five: ' + (10 > 5));\n",
    "console.log('five is greater than ten: ' + (5 > 10));\n",
    "console.log('ten is greater than ten: ' + (10 > 10));\n",
    "console.log();\n",
    "console.log('ten is less than five: ' + (10 < 5));\n",
    "console.log('five is less than ten: ' + (5 < 10));\n",
    "console.log('ten is less than ten: ' + (10 < 10));\n",
    "console.log();\n",
    "console.log('ten is greater than or equal to five: ' + (10 >= 5));\n",
    "console.log('five is greater than or equal to ten: ' + (5 >= 10));\n",
    "console.log('ten is greater than or equal to ten: ' + (10 >= 10));\n",
    "console.log();\n",
    "console.log('ten is less than or equal to five: ' + (10 <= 5));\n",
    "console.log('five is less than or equal to ten: ' + (5 <= 10));\n",
    "console.log('ten is less than or equal to ten: ' + (10 <= 10));\n",
    "console.log();\n",
    "// @ts-ignore\n",
    "console.log('ten is equal to five: ' + (10 == 5));\n",
    "// @ts-ignore\n",
    "console.log('five is equal to ten: ' + (5 == 10));\n",
    "console.log('ten is equal to ten: ' + (10 == 10));\n",
    "console.log();\n",
    "// @ts-ignore\n",
    "console.log('ten is not equal to five: ' + (10 != 5));\n",
    "// @ts-ignore\n",
    "console.log('five is not equal to ten: ' + (5 != 10));\n",
    "console.log('ten is not equal to ten: ' + (10 != 10));"
   ]
  },
  {
   "cell_type": "markdown",
   "metadata": {},
   "source": [
    "This can also work for other data types, like Strings, which operate alphabetically."
   ]
  },
  {
   "cell_type": "code",
   "execution_count": null,
   "metadata": {},
   "outputs": [],
   "source": [
    "let a = 'aardvark';\n",
    "let z = 'zebra';\n",
    "\n",
    "console.log('aardvark is greater than zebra: ' + (a > z));\n",
    "console.log('zebra is greater than aardvark: ' + (z > a));\n",
    "console.log('aardvark is greater than aardvark: ' + (a > a));\n",
    "console.log();\n",
    "console.log('aardvark is less than zebra: ' + (a < z));\n",
    "console.log('zebra is less than aardvark: ' + (z < a));\n",
    "console.log('aardvark is less than aardvark: ' + (a < a));\n",
    "console.log()\n",
    "console.log('aardvark is greater than or equal to zebra: ' + (a >= z));\n",
    "console.log('zebra is greater than or equal to aardvark: ' + (z >= a));\n",
    "console.log('aardvark is greater than or equal to aardvark: ' + (a >= a));\n",
    "console.log();\n",
    "console.log('aardvark is less than or equal to zebra: ' + (a <= z));\n",
    "console.log('zebra is less than or equal to aardvark: ' + (z <= a));\n",
    "console.log('aardvark is less than or equal to aardvark: ' + (a <= a));\n",
    "console.log()\n",
    "console.log('aardvark is equal to zebra: ' + (a == z));\n",
    "console.log('zebra is equal to aardvark: ' + (z == a));\n",
    "console.log('aardvark is equal to aardvark: ' + (a == a));\n",
    "console.log();\n",
    "console.log('aardvark is not equal to zebra: ' + (a != z));\n",
    "console.log('zebra is not equal to aardvark: ' + (z != a));\n",
    "console.log('aardvark is not equal to aardvark: ' + (a != a));"
   ]
  },
  {
   "cell_type": "markdown",
   "metadata": {},
   "source": [
    "## == vs =\n",
    "\n",
    "Remember to not mistake the **assignment operator** and the **equality operator**!\n",
    "\n",
    "- `=` *tells* the computer to **assign** a value on the right to a variable on\n",
    "  the left\n",
    "- `==` *asks* the computer whether the values on the left and the right are equal.\n",
    "\n",
    "Using the wrong operator in the wrong situation will typically cause an error."
   ]
  },
  {
   "cell_type": "code",
   "execution_count": null,
   "metadata": {},
   "outputs": [],
   "source": [
    "// Use = to assign a value, not ==\n",
    "let x == 5;"
   ]
  },
  {
   "cell_type": "code",
   "execution_count": null,
   "metadata": {},
   "outputs": [],
   "source": [
    "// Use == to check equality, not =\n",
    "console.log(5 = 10);"
   ]
  }
 ],
 "metadata": {
  "kernelspec": {
   "display_name": "JavaScript",
   "language": "javascript",
   "name": "jslab"
  },
  "language_info": {
   "file_extension": ".js",
   "mimetype": "text/javascript",
   "name": "javascript",
   "version": ""
  },
  "orig_nbformat": 4
 },
 "nbformat": 4,
 "nbformat_minor": 2
}
