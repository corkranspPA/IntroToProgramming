{
 "cells": [
  {
   "cell_type": "markdown",
   "metadata": {},
   "source": [
    "## squirrelPlay\n",
    "\n",
    "The squirrels in Palo Alto spend most of the day playing. In particular, they\n",
    "play if the temperature is between 60 and 90 (inclusive). Unless it is summer,\n",
    "then the upper limit is 100 instead of 90. Given an int temperature and a\n",
    "boolean isSummer, return true if the squirrels play and false otherwise.\n",
    "\n",
    "- squirrelPlay(70, false) → true\n",
    "- squirrelPlay(95, false) → false\n",
    "- squirrelPlay(95, true) → true\n",
    "\n",
    "## redTicket\n",
    "\n",
    "You have a red lottery ticket showing ints a, b, and c, each of which is 0, 1, or 2. If they are all the value 2, the result is 10. Otherwise if they are all the same, the result is 5. Otherwise so long as both b and c are different from a, the result is 1. Otherwise the result is 0.\n",
    "\n",
    "- redTicket(2, 2, 2) → 10\n",
    "- redTicket(2, 2, 1) → 0\n",
    "- redTicket(0, 0, 0) → 5"
   ]
  }
 ],
 "metadata": {
  "language_info": {
   "name": "python"
  },
  "orig_nbformat": 4
 },
 "nbformat": 4,
 "nbformat_minor": 2
}
