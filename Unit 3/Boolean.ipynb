{
 "cells": [
  {
   "cell_type": "markdown",
   "metadata": {},
   "source": [
    "# Boolean\n",
    "\n",
    "Very often, in programming, you will need a data type that can only have one of two values, like\n",
    "- YES / NO\n",
    "- ON / OFF\n",
    "- TRUE / FALSE\n",
    "\n",
    "For this, JavaScript has a Boolean data type. It can only take the values true\n",
    "or false."
   ]
  },
  {
   "cell_type": "code",
   "execution_count": 5,
   "metadata": {},
   "outputs": [
    {
     "name": "stdout",
     "output_type": "stream",
     "text": [
      "ten is greater than five: true\n",
      "five is greater than ten: false\n",
      "Is student: true\n"
     ]
    }
   ],
   "source": [
    "let x = 10 > 5;\n",
    "console.log('ten is greater than five: ' + x);\n",
    "\n",
    "x = 5 > 10;\n",
    "console.log('five is greater than ten: ' + x);\n",
    "\n",
    "let student = true;\n",
    "console.log('is student: ' + student);"
   ]
  },
  {
   "cell_type": "markdown",
   "metadata": {},
   "source": [
    "Although you can store booleans inside of variables, it's also very common to\n",
    "see booleans not being stored in variables and just printed or processed\n",
    "directly.\n",
    "\n",
    "You will be working with booleans throughout this unit!"
   ]
  },
  {
   "cell_type": "code",
   "execution_count": 4,
   "metadata": {},
   "outputs": [
    {
     "name": "stdout",
     "output_type": "stream",
     "text": [
      "ten is greater than five: true\n",
      "five is greater than ten: false\n"
     ]
    }
   ],
   "source": [
    "console.log('ten is greater than five: ' + (10 > 5));\n",
    "console.log('five is greater than ten: ' + (5 > 10));"
   ]
  }
 ],
 "metadata": {
  "kernelspec": {
   "display_name": "JavaScript",
   "language": "javascript",
   "name": "jslab"
  },
  "language_info": {
   "file_extension": ".js",
   "mimetype": "text/javascript",
   "name": "javascript",
   "version": ""
  },
  "orig_nbformat": 4
 },
 "nbformat": 4,
 "nbformat_minor": 2
}
