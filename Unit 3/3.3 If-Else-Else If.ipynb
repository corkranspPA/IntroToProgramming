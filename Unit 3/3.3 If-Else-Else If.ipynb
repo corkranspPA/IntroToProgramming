{
 "cells": [
  {
   "cell_type": "markdown",
   "metadata": {},
   "source": [
    "# If / Else If / Else\n",
    "\n",
    "While writing a program, there may be a situation when you need to adopt one out of a given set of paths. In such cases, you need to use conditional statements that allow your program to make correct decisions and perform right actions.\n",
    "\n",
    "In JavaScript we have the following conditional statements:\n",
    "\n",
    "- Use `if` to specify a block of code to be executed, if a specified condition is true\n",
    "- Use `else` to specify a block of code to be executed, if the same condition is false\n",
    "- Use `else if` to specify a new condition to test, if the first condition is false\n",
    "\n",
    "## If\n",
    "\n",
    "The **if statement** is the most basic control statement that allows JavaScript to\n",
    "make decisions and execute statements conditionally. The syntax for correctly\n",
    "using an if is as follows:\n",
    "\n",
    "```javascript\n",
    "if (expression) {\n",
    "   Statement(s) to be executed if expression is true\n",
    "}\n",
    "```\n",
    "\n",
    "If `expression` evaluates to `true`, the statements inside of the curly brackets\n",
    "`{ }` will be executed.  If `expression` evaluates to `false`, the statements\n",
    "will be skipped.  Try it out in the code block below."
   ]
  },
  {
   "cell_type": "code",
   "execution_count": 21,
   "metadata": {},
   "outputs": [
    {
     "name": "stdout",
     "output_type": "stream",
     "text": [
      "17 is too young to vote!\n"
     ]
    }
   ],
   "source": [
    "function checkAge(age) {\n",
    "    if(age < 18) {\n",
    "        console.log(age + ' is too young to vote!');\n",
    "    }\n",
    "}\n",
    "\n",
    "checkAge(17);"
   ]
  },
  {
   "cell_type": "markdown",
   "metadata": {},
   "source": [
    "## Else\n",
    "\n",
    " Use the `else` statement to specify a block of code to be executed if the\n",
    " condition is false.  An `else` statement will never have a conditional expression\n",
    " in parenthesis - instead, it relies on the `if` and/or `else if` statements\n",
    " above it.  The code cell below will show this in action, using a\n",
    " randomly generated age value from 0 to 36."
   ]
  },
  {
   "cell_type": "code",
   "execution_count": 22,
   "metadata": {},
   "outputs": [
    {
     "name": "stdout",
     "output_type": "stream",
     "text": [
      "36 is old enough to vote!\n"
     ]
    }
   ],
   "source": [
    "function checkAge(age) {\n",
    "    if(age < 18) {\n",
    "        console.log(age + ' is too young to vote!');\n",
    "    } else {\n",
    "        console.log(age + ' is old enough to vote!');\n",
    "    }\n",
    "}\n",
    "\n",
    "checkAge(Math.floor(Math.random() * 37)); // Generate a random age from 0 to 36"
   ]
  },
  {
   "cell_type": "markdown",
   "metadata": {},
   "source": [
    "An `else` statement is optional, but if you use one it must have an `if` or `else if` immediately\n",
    " before, or Javascript will display an error, as shown below.  Nothing can go\n",
    " between `if` and `else`!"
   ]
  },
  {
   "cell_type": "code",
   "execution_count": null,
   "metadata": {},
   "outputs": [],
   "source": [
    "if(3 < 1) {\n",
    "    console.log('Three is less than one.');\n",
    "}\n",
    "\n",
    "console.log('whoops'); // This line breaks the `connection` between else and if!\n",
    "\n",
    "else {\n",
    "    console.log('Three is greater than one.');\n",
    "}"
   ]
  },
  {
   "cell_type": "markdown",
   "metadata": {},
   "source": [
    "## Else If\n",
    "\n",
    "Use the `else if` statement to specify a new condition if and only if the first condition is\n",
    "false.  Like an `if`, it must have a condition attached, and like an `else`, an\n",
    "`else if` only executes if all conditions above it are false."
   ]
  },
  {
   "cell_type": "code",
   "execution_count": 50,
   "metadata": {},
   "outputs": [
    {
     "name": "stdout",
     "output_type": "stream",
     "text": [
      "adult\n",
      "child\n",
      "senior\n"
     ]
    }
   ],
   "source": [
    "function checkAge(age) {\n",
    "    if(age < 18) {\n",
    "        console.log('child')\n",
    "    } else if(age < 65) {\n",
    "        console.log('adult')\n",
    "    } else {\n",
    "        console.log('senior')\n",
    "    }\n",
    "}\n",
    "\n",
    "checkAge(25); // expected output: adult\n",
    "checkAge(8);  // expected output: child\n",
    "checkAge(999);// expected output: senior"
   ]
  },
  {
   "cell_type": "markdown",
   "metadata": {},
   "source": [
    "The difference between `if` and `else if` isn't always immediately obvious to\n",
    "new programmers.  Check out the code cell below.  The intent is to convert a random number grade from\n",
    "50 to 100 into a letter grade...  but it doesn't quite work.  Run it a few times, and see what the output is."
   ]
  },
  {
   "cell_type": "code",
   "execution_count": 47,
   "metadata": {},
   "outputs": [
    {
     "name": "stdout",
     "output_type": "stream",
     "text": [
      "A\n",
      "B\n",
      "C\n",
      "D\n"
     ]
    }
   ],
   "source": [
    "function letterGrade(numGrade) {\n",
    "    if(numGrade >= 90) {\n",
    "        console.log('A');\n",
    "    } if(numGrade >= 80) {\n",
    "        console.log('B');\n",
    "    } if(numGrade >= 70) {\n",
    "        console.log('C');\n",
    "    } if(numGrade >= 60) {\n",
    "        console.log('D');\n",
    "    } if(numGrade < 60) {\n",
    "        console.log('F');\n",
    "    }\n",
    "}\n",
    "\n",
    "let quiz1 = Math.floor(Math.random() * 50 + 50); //Generate a random grade from 50 to 99\n",
    "letterGrade(quiz1); //Convert and print"
   ]
  },
  {
   "cell_type": "markdown",
   "metadata": {},
   "source": [
    "If you've rolled the dice a few times, you might have seen some odd behaviors.\n",
    "Grades from 50 to 69 seem to work ok, but any grade above a 70 is printed\n",
    "multiple times and incorrectly.  Because `if` statements always operate independently of each other, grades above a 70 will cause multiple statements to execute.\n",
    "\n",
    "Let's look at how using `else if` can change this behavior.  Unlike an `if`, an\n",
    "`else if` will *only* be executed if all `if` or `else if` conditions above it are false."
   ]
  },
  {
   "cell_type": "code",
   "execution_count": 48,
   "metadata": {},
   "outputs": [
    {
     "name": "stdout",
     "output_type": "stream",
     "text": [
      "B\n"
     ]
    }
   ],
   "source": [
    "function letterGrade(numGrade) {\n",
    "    if(numGrade >= 90) {\n",
    "        console.log('A');\n",
    "    } else if(numGrade >= 80) {\n",
    "        console.log('B');\n",
    "    } else if(numGrade >= 70) {\n",
    "        console.log('C');\n",
    "    } else if(numGrade >= 60) {\n",
    "        console.log('D');\n",
    "    } else {\n",
    "        console.log('F');\n",
    "    }\n",
    "}\n",
    "\n",
    "let quiz1 = Math.floor(Math.random() * 50 + 50); //Generate a random grade from 50 to 99\n",
    "letterGrade(quiz1); //Convert and print"
   ]
  },
  {
   "cell_type": "markdown",
   "metadata": {},
   "source": [
    "Now, the program works as intended.  No matter what the grade is, the first\n",
    "true `if` or `else if` statement is executed, and all subsequent `else if` and\n",
    "`else` statements are skipped.\n",
    "\n",
    "Try it yourself below! Define a function named `sizeCheck`.  The function should\n",
    "accept one parameter.\n",
    "\n",
    "- **If** the parameter is less than 20, your function should log 'small' to the\n",
    "console.\n",
    "- **Otherwise, if** the parameter is less than 40, your function should log 'medium' to the console.\n",
    "- **Otherwise**, your function should log 'large' to the console.\n",
    "\n",
    "If your code works, it should print 'small', then 'medium', then 'large'."
   ]
  },
  {
   "cell_type": "code",
   "execution_count": 49,
   "metadata": {},
   "outputs": [
    {
     "name": "stderr",
     "output_type": "stream",
     "text": [
      "3:1 - Cannot find name 'sizeCheck'.\n",
      "4:1 - Cannot find name 'sizeCheck'.\n",
      "5:1 - Cannot find name 'sizeCheck'.\n"
     ]
    }
   ],
   "source": [
    "\n",
    "\n",
    "//Define your function above this line\n",
    "sizeCheck(15);\n",
    "sizeCheck(32);\n",
    "sizeCheck(43);"
   ]
  }
 ],
 "metadata": {
  "kernelspec": {
   "display_name": "JavaScript",
   "language": "javascript",
   "name": "jslab"
  },
  "language_info": {
   "file_extension": ".js",
   "mimetype": "text/javascript",
   "name": "javascript",
   "version": ""
  },
  "orig_nbformat": 4
 },
 "nbformat": 4,
 "nbformat_minor": 2
}
