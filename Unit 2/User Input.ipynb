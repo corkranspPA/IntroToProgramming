{
 "cells": [
  {
   "cell_type": "markdown",
   "metadata": {},
   "source": [
    "# User Input\n",
    "\n",
    "It's hard in Node.js, especially in conjunction with GraderThan!\n",
    "\n",
    "That's ok, we're mostly going to do unit testing from this point onwards, but I\n",
    "want you know this is possible for your own projects.\n",
    "\n",
    "Check User Input.example.js if you want to see how it's done.  I'm reachable on\n",
    "WebEx anytime if you want an in-depth explanation."
   ]
  }
 ],
 "metadata": {
  "kernelspec": {
   "display_name": "JavaScript",
   "language": "javascript",
   "name": "jslab"
  },
  "language_info": {
   "file_extension": ".js",
   "mimetype": "text/javascript",
   "name": "javascript",
   "version": ""
  },
  "orig_nbformat": 4
 },
 "nbformat": 4,
 "nbformat_minor": 2
}
