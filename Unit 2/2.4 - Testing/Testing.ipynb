{
 "cells": [
  {
   "cell_type": "markdown",
   "metadata": {},
   "source": [
    "# Testing\n",
    "\n",
    "As you've almost certainly discovered by now, getting a program 100% right on\n",
    "the first try is difficult.  As you get bigger and more complex with your goals\n",
    "and techniques, it rapidly becomes *impossible*.  Think of how many patches\n",
    "your favorite game has gone through, or how often your apps ask to be updated!\n",
    "\n",
    "Through **testing** and **debugging**, we can discover and repair issues with\n",
    "our code.  The goal is to find and eliminate **errors**, which come in two main\n",
    "flavors: **runtime errors**, which occur as the program is running, and\n",
    "**compile-time errors**, which occur as you are programming, and will often\n",
    "prevent your code from being run at all!\n",
    "\n",
    "## Errors - compile-time\n",
    "\n",
    "These might seem like the 'worst' kind of error to encounter, as I just said\n",
    "they'll prevent your program from even running, right?  However, these errors\n",
    "are really the computer looking through your code and recognizing that something\n",
    "you've written is essentially impossible, nonsensical, or perhaps just\n",
    "unfinished.  For example, forgetting to close a string literal with `'`, so that\n",
    "the computer believes all of your code is actually a string, or forgetting a\n",
    "parenthesis, causing the computer to essentially 'lose track' of what's going on\n",
    "in your code.\n",
    "\n",
    "Now, computers are dumb, and that limits how helpful they are about what's\n",
    "wrong.  They can't think and say to themselves \"oh, the programmer meant to do *this*\n",
    "instead of *that*, I'll tell them!\"  All they can do is mark the moment they\n",
    "realize something is wrong, and give the best explanation they can."
   ]
  },
  {
   "cell_type": "code",
   "execution_count": null,
   "metadata": {},
   "outputs": [],
   "source": [
    "console.log('I can buy myself flowers);"
   ]
  },
  {
   "cell_type": "markdown",
   "metadata": {},
   "source": [
    "Here, I've removed the ending (\"terminating\") quotation mark from the string literal, causing the\n",
    "computer to interpret the parenthesis and semi-colon as part of the string.\n",
    "Fortunately, **syntax errors** like these often give very clear error messages,\n",
    "as shown above.  However, note that the red squiggles don't appear until the\n",
    "very end of the line, even though the error is really after the `s` in\n",
    "`flowers`.  The computer does not know the `);` isn't supposed to be part of\n",
    "string!  It only realizes something is wrong when the line suddenly ends.\n",
    "\n",
    "Another tricky aspect of locating errors is that one error can cause the\n",
    "computer to misunderstand huge portions of code following the error.  You can\n",
    "see a simple example of this below:"
   ]
  },
  {
   "cell_type": "code",
   "execution_count": null,
   "metadata": {},
   "outputs": [],
   "source": [
    "console.log('I can buy myself flowers');\n",
    "console.log('Write my name in the sand);\n",
    "console.log('Talk to myself for hours');\n",
    "console.log('Say things you don\\'t understand');"
   ]
  },
  {
   "cell_type": "markdown",
   "metadata": {},
   "source": [
    "On line 2, we have the same unterminated string literal error that we had in the\n",
    "first example, but in a longer program.  Because the computer sees the `);` as\n",
    "being a string, and not actual code, it also thinks that the entire next line is essentially\n",
    "a run-on sentence, confusing it and causing it to label a `',' expected` error,\n",
    "even though that line is totally correct!\n",
    "\n",
    "As a general rule, if the computer sees multiple errors in the same file, *only\n",
    "the top-most one is guaranteed to be a real error*!  Any errors below the first\n",
    "one could just be misinterpretations caused by the first error... or they could\n",
    "also be real.  You should always fix your code from the top down!\n",
    "\n",
    "## Runtime errors\n",
    "\n",
    "These are often known as 'bugs', and they can be difficult to trace and repair\n",
    "for many reasons.  They might only happen in certain circumstances, or they\n",
    "might be the result of the programmer getting the math wrong!"
   ]
  },
  {
   "cell_type": "code",
   "execution_count": null,
   "metadata": {},
   "outputs": [],
   "source": [
    "function areaOfRect(length, width) {\n",
    "    return length * length; // <-- pssst... this is where the error is!\n",
    "}\n",
    "\n",
    "//Testing!\n",
    "console.log(\"The area of a 1 x 1 rectangle is \" + areaOfRect(1, 1)); // output: 1 correct: 1\n",
    "console.log(\"The area of a 2 x 2 rectangle is \" + areaOfRect(2, 2)); // output: 4 correct: 4\n",
    "console.log(\"The area of a 4 x 6 rectangle is \" + areaOfRect(4, 6)); // output: 16 correct: 24 (!!!)\n",
    "console.log(\"The area of a 0 x 99 rectangle is \" + areaOfRect(0, 99)); // output: 0 correct: 0"
   ]
  },
  {
   "cell_type": "markdown",
   "metadata": {},
   "source": [
    "In the scenario above, the computer sees nothing wrong.  All the syntax is\n",
    "correct, all the variables used have been declared correctly, and the code is\n",
    "clean.  It's not until we run the test console.log statements and realize it is giving unexpected\n",
    "values that we even realize the formula we've used is incorrect!\n",
    "\n",
    "This is why **testing** your code is important... especially if you're\n",
    "submitting it for a grade!  Notice how the test used a variety of values, and\n",
    "three of the four tests worked.  It could be even more thorough, with negative values,\n",
    "entries like 'four' or even 'lol', and so forth. It could also be less\n",
    "intrusive; we wouldn't want to ship out code that spammed test messages at the customer every\n",
    "time it ran."
   ]
  }
 ],
 "metadata": {
  "kernelspec": {
   "display_name": "JavaScript",
   "language": "javascript",
   "name": "jslab"
  },
  "language_info": {
   "file_extension": ".js",
   "mimetype": "text/javascript",
   "name": "javascript",
   "version": ""
  },
  "orig_nbformat": 4
 },
 "nbformat": 4,
 "nbformat_minor": 2
}
