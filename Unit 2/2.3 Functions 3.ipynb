{
 "cells": [
  {
   "cell_type": "markdown",
   "metadata": {},
   "source": [
    "# Functions - Math and String\n",
    "\n",
    "JavaScript comes with a number of built-in functions.  The ones most useful to\n",
    "us involve calculator operations and text manipulation.\n",
    "\n",
    "## Math\n",
    "\n",
    "The `Math` object contains a number of functions and constants helpful for\n",
    "working with formulas and numbers.  The most common ones are listed below,\n",
    "although there are more than just these in the Math object.\n",
    "\n",
    "| Function / Constant | Description |\n",
    "| ----------- | ----------- |\n",
    "| Math.PI | Constant value equal to *pi* |\n",
    "| Math.abs(x) | Returns absolute value of *x* |\n",
    "| Math.round(x) | Returns *x* rounded to its nearest integer |\n",
    "| Math.ceil(x) | Returns *x* rounded up to its nearest integer |\n",
    "| Math.floor(x) | Returns *x* rounded down to its nearest integer |\n",
    "| Math.sqrt(x) | Returns the square root of *x* |\n",
    "| Math.pow(base, exp) | Returns *base* raised to the power of *exp* |\n",
    "| Math.sin(x) | Returns the sine of the angle *x* (given in radians!) |\n",
    "| Math.cos(x) | Returns the cosine of the angle *x* (given in radians!) |\n",
    "| Math.min(a,b,c...y,z) | Returns the smallest parameter given |\n",
    "| Math.max(a,b,c...y,z) | Returns the largest parameter given |\n",
    "| Math.random() | Returns a value between 0 (inclusive) and 1 (exclusive) |\n",
    "\n",
    "Let's see some of these in action.\n",
    "\n",
    "### Math.PI\n",
    "\n",
    "Exactly what you think it is.  Useful for working with angles and circles!  If a\n",
    "programming problem ever requires PI, the assignment instructions will let you\n",
    "know and explain the formulas."
   ]
  },
  {
   "cell_type": "code",
   "execution_count": null,
   "metadata": {},
   "outputs": [],
   "source": [
    "console.log(Math.PI); //Print pi to 16 digits\n",
    "console.log(Math.PI * 5 * 5); //Print the area of a circle with a radius of 5\n",
    "console.log(90 * Math.PI / 180); //Convert 90 degrees to radians and print the result"
   ]
  },
  {
   "cell_type": "markdown",
   "metadata": {},
   "source": [
    "### Rounding (round, floor, ceil)\n",
    "\n",
    "Rounding comes in three flavors:\n",
    "\n",
    "- Regular rounding, the type you learned in math class.  Decimals of .5 or greater\n",
    "  round up, while decimals less than .5 round down.\n",
    "- Floor, where the value is **always** rounded down.\n",
    "- Ceiling, where the value is **always** rounded up.\n",
    "\n",
    "Rounding is very convenient for the end user, since computers like to return\n",
    "very precise decimal values, like in the code cell above where we saw Math.PI\n",
    "used a lot.  Programmers use a lot of tricks with rounding to get the results\n",
    "they want; let's see some examples below."
   ]
  },
  {
   "cell_type": "code",
   "execution_count": null,
   "metadata": {},
   "outputs": [],
   "source": [
    "//I want to only print the first 3 digits of pi! To do so, I will multiply pi (3.14159...) by\n",
    "//100 (314.159...), then I will use Math.floor() to remove everything after the\n",
    "//decimal, and finally divide 314 by 100 to print out 3.14.\n",
    "console.log(Math.floor(Math.PI * 100)/100);\n",
    "\n",
    "//Maybe I'm calculating a bill split between a group of people, and need to round to the nearest cent.  Same\n",
    "//technique - multiply by 100, round down, divide by 100.\n",
    "let bill = 89.67;\n",
    "let numPeople = 5;\n",
    "let perPerson = Math.floor((bill / numPeople) * 100) / 100 ;\n",
    "console.log('Splitting a $' + bill + ' between ' + numPeople + ' people means each person pays ' + perPerson);\n"
   ]
  },
  {
   "cell_type": "markdown",
   "metadata": {},
   "source": [
    "### Square Roots and Exponents\n",
    "\n",
    "These common math operations would be a pain to write out in full, especially\n",
    "square root.  JavaScript provides `Math.sqrt` and `Math.pow` to help out!  Keep in\n",
    "mind, `Math.pow` takes 2 parameters, with the first one being the *base* and the\n",
    "second one being the *exponent*."
   ]
  },
  {
   "cell_type": "code",
   "execution_count": null,
   "metadata": {},
   "outputs": [],
   "source": [
    "console.log(Math.sqrt(25)); //Square root of 25 is 5\n",
    "console.log(Math.pow(5, 2)); //5 raised to the power of 2 is 25\n",
    "console.log(Math.pow(2, 5)); //2 raised to the power of 5 is 32"
   ]
  },
  {
   "cell_type": "markdown",
   "metadata": {},
   "source": [
    "### Random\n",
    "\n",
    "You will see this function used a lot in examples and unit tests.  `Math.random`\n",
    "will return a [psuedorandom](https://en.wikipedia.org/wiki/Pseudorandomness)\n",
    "decimal value between and including 0, up to but **not including** 1.  You can\n",
    "multiply and add the result to generate a random number in any range you want,\n",
    "and combine with rounding to generate integers instead of decimals.\n",
    "\n",
    "`Math.random() * total_possible_numbers + lowest_possible_number` is the\n",
    "formula.  See it in action below.  Run the code cell repeatedly to see it\n",
    "generate new values each time."
   ]
  },
  {
   "cell_type": "code",
   "execution_count": null,
   "metadata": {},
   "outputs": [],
   "source": [
    "console.log(Math.random() * 100); //Prints a decimal value between 0 (incl.) and 100 (excl.)\n",
    "console.log(Math.random() * 50 + 50); //Prints a decimal value between 50 (incl.) and 100 (excl.)\n",
    "\n",
    "console.log(Math.floor(Math.random() * 100)); //Prints an integer value between 0 (incl.) and 100 (excl.)\n",
    "console.log(Math.floor(Math.random() * 50 + 50)); //Prints an integer value between 50 (incl.) and 100 (excl.)\n",
    "\n",
    "console.log(Math.floor(Math.random() * 20 + -10)); //Prints an integer value between -10 (incl.) and 10 (excl.)"
   ]
  },
  {
   "cell_type": "markdown",
   "metadata": {},
   "source": [
    "Note that the maximum value `Math.floor(Math.random() * 100))` can return is 99,\n",
    "not 100.  **Math.random will never return a 1**.\n",
    "\n",
    "### Min and Max\n",
    "\n",
    "`Math.min` and `Math.max` will return the smallest (min) or largest (max) value\n",
    "passed in as a parameter, and can accept a variable number of parameters."
   ]
  },
  {
   "cell_type": "code",
   "execution_count": null,
   "metadata": {},
   "outputs": [],
   "source": [
    "console.log(Math.min(9, 1)); // 1 is the min here\n",
    "console.log(Math.max(9, 1)); // 9 is the max here\n",
    "\n",
    "console.log(Math.min(9, 1, 5, 6, 3, 999)); // 1 is still the min here\n",
    "console.log(Math.max(9, 1, 5, 6, 3, 999)); // 999 is the max here"
   ]
  },
  {
   "cell_type": "markdown",
   "metadata": {},
   "source": [
    "## Strings\n",
    "\n",
    "Text manipulation is a very common use for programming.  Counting words,\n",
    "trimming text, identifying commands, changing capitalization, even checking for\n",
    "alphabetical order are common computerized tasks.\n",
    "\n",
    "| Function / Property | Description |\n",
    "| ----------- | ----------- |\n",
    "| String.length | Returns the number of characters in a string |\n",
    "| String.slice(s, e) | Extracts a part of a string and returns the extracted part in a new string. |\n",
    "| String.replace(o, n) | Replaces a specified value with another value and returns the new string. |\n",
    "| String.toUpperCase() | Returns the string with all letters capitalized |\n",
    "| String.toLowerCase() | Returns the string with all letters uncapitalized |\n",
    "\n",
    "All string functions and properties can be used with variables and string literals.\n",
    "\n",
    "### String Length\n",
    "\n",
    "The **length** of a string is equal to the number of characters in the string.\n",
    "This includes punctuation and whitespace!"
   ]
  },
  {
   "cell_type": "code",
   "execution_count": null,
   "metadata": {},
   "outputs": [],
   "source": [
    "console.log('Proctor Academy'.length); // 'Proctor Academy' is 15 characters\n",
    "let txt = 'hello';\n",
    "console.log(hello.length); //'hello' is 5 characters"
   ]
  },
  {
   "cell_type": "markdown",
   "metadata": {},
   "source": [
    "### Slicing Strings\n",
    "\n",
    "Sometimes, you'll want to cut out a 'slice' of a string.  `String.slice` makes\n",
    "this process easy by allowing you to specify a starting and ending position,\n",
    "although you should be aware that JavaScript counts positions from zero!\n",
    "Meaning, first position is 0, second position is 1, and so on."
   ]
  },
  {
   "cell_type": "code",
   "execution_count": null,
   "metadata": {},
   "outputs": [],
   "source": [
    "let text = \"Apple, Banana, Kiwi\";\n",
    "\n",
    "console.log(text.slice(7, 13));   //Slice out a portion of a string from position 7 to position 13\n",
    "console.log(text.slice(7));       //If you omit the second parameter, the method will slice out the rest of the string\n",
    "console.log(text.slice(-12));     //If a parameter is negative, the position is counted from the end of the string\n",
    "console.log(text.slice(-12, -6)); //This example slices out a portion of a string from position -12 to position -6"
   ]
  },
  {
   "cell_type": "markdown",
   "metadata": {},
   "source": [
    "It's very common to see String.length used in conjunction with String.slice and\n",
    "other methods, as it allows you to determine where the middle or end of a string is."
   ]
  },
  {
   "cell_type": "code",
   "execution_count": null,
   "metadata": {},
   "outputs": [],
   "source": [
    "let str = 'abyz';\n",
    "let strFront = str.slice(0, str.length / 2); //Get string from first character (0) to middle (str.length / 2)\n",
    "let strBack = str.slice(str.length / 2, str.length); //Get string from middle character (str.length / 2) to end (str.length)\n",
    "\n",
    "console.log('Original string: ' + str);\n",
    "console.log('Front half: ' + strFront);\n",
    "console.log('Back half: ' + strBack);\n"
   ]
  },
  {
   "cell_type": "markdown",
   "metadata": {},
   "source": [
    "### Replacing Strings\n",
    "\n",
    "The `String.replace` function allows us to specify a string to search for and a\n",
    "string to replace the first instance of the searched string with.  There is also a\n",
    "`String.replaceAll` that will replace all instances of the searched string, not\n",
    "just the first one."
   ]
  },
  {
   "cell_type": "code",
   "execution_count": null,
   "metadata": {},
   "outputs": [],
   "source": [
    "let wrongText = 'Holderness is the superior lakes region boarding school.';\n",
    "let rightText = wrongText.replace('Holderness', 'Proctor');\n",
    "\n",
    "console.log(wrongText);\n",
    "console.log(rightText);\n",
    "\n",
    "let notArnold = 'I need my clothes, my boots and my motorcycle.';\n",
    "let arnold = notArnold.replaceAll('my', 'your'); \n",
    "\n",
    "console.log(notArnold);\n",
    "console.log(arnold);"
   ]
  },
  {
   "cell_type": "markdown",
   "metadata": {},
   "source": [
    "### Capitalizing Strings\n",
    "\n",
    "`String.toUpperCase` and `String.toLowerCase` convert a string into all-upper or\n",
    "all-lower case characters, respectively.  Why would this be useful?  Well, let's\n",
    "say you're typing an e-mail to me, and your cat is pawing at your Caps Lock key\n",
    "so the email goes to 'corkRANSp@procTorAcademy.ORG'.  As is, that could cause\n",
    "problems, since most of the time data is **case sensitive**.  Fortunately, under\n",
    "he hood all e-mail clients will convert a typed email address or web address\n",
    "into all lowercase, to make matching easier."
   ]
  },
  {
   "cell_type": "code",
   "execution_count": null,
   "metadata": {},
   "outputs": [],
   "source": [
    "let original = 'corkRANSp@procTorAcademy.ORG';\n",
    "let lower = original.toLowerCase();\n",
    "let upper = original.toUpperCase();\n",
    "\n",
    "console.log(original);\n",
    "console.log(lower);\n",
    "console.log(upper);"
   ]
  },
  {
   "cell_type": "markdown",
   "metadata": {},
   "source": [
    "This also works with browser search bars, searching on Spotify or Netflix, and\n",
    "many other places.  Try going to 'gOOglE.cOm' and you'll see that Chrome/Safari/Firefox converts everything to lowercase."
   ]
  }
 ],
 "metadata": {
  "kernelspec": {
   "display_name": "JavaScript",
   "language": "javascript",
   "name": "jslab"
  },
  "language_info": {
   "file_extension": ".js",
   "mimetype": "text/javascript",
   "name": "javascript",
   "version": ""
  },
  "orig_nbformat": 4
 },
 "nbformat": 4,
 "nbformat_minor": 2
}
