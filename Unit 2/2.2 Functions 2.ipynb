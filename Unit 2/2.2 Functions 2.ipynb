{
 "cells": [
  {
   "cell_type": "markdown",
   "metadata": {},
   "source": [
    "# Functions 2 - Parameters and return\n",
    "\n",
    "If we're being honest, the functions in Function 1 weren't very useful, were\n",
    "they?  Sure, they do OK as simple and educational examples, but you'd never\n",
    "see functions like those in a real program.  In order to really unlock the full\n",
    "power of functions, we should incorporate **parameters** and **returning**\n",
    "values.\n",
    "\n",
    "## Parameters\n",
    "\n",
    "Have you noticed that so far, the name of a function is always followed by `()`?\n",
    "In Function 1, you may remember reading that those are referred to as a\n",
    "**parameter list**.  They allow us to send any data a function relies on\n",
    "(**parameters**, a.k.a **arguments**) to the function.\n",
    "`console.log`, for instance, relies on the programmer to provide it with the data\n",
    "to log to the console as a parameter.\n",
    "\n",
    "```javascript\n",
    "console.log('Proctor Academy');\n",
    "```\n",
    "\n",
    "More great examples of functions using parameters can be found in JavaScript's\n",
    "`Math` object.  This object contains many basic math functions a programmer\n",
    "might find themselves in need of.  Run the code cell below to see some common\n",
    "Math functions using parameters to accept data.  Feel free to try changing the\n",
    "parameters!"
   ]
  },
  {
   "cell_type": "code",
   "execution_count": null,
   "metadata": {},
   "outputs": [],
   "source": [
    "console.log(Math.abs(-14)); //Math.abs computes absolute value of the parameter\n",
    "console.log(Math.floor(2.6)); //Math.floor rounds down\n",
    "console.log(Math.ceil(2.4)); //Math.ceil rounds up\n",
    "console.log(Math.max(2, 5)); //Math.max takes Number parameters and returns the largest one\n",
    "console.log(Math.min(2, 5)); //Math.max takes Number parameters and returns the smallest one"
   ]
  },
  {
   "cell_type": "markdown",
   "metadata": {},
   "source": [
    "As you can see with `Math.max` and `Math.min`, a function can accept multiple\n",
    "parameters, separated by commas.\n",
    "\n",
    "## Return keyword\n",
    "\n",
    "Generally speaking, all of the functions we saw in Function 1 were reporting\n",
    "answers using `console.log`.  That's acceptable for learning purposes, but\n",
    "in the real world programs don't output data to the user using the\n",
    "console.  They write to a file, or make a graphic on the screen, or send the\n",
    "value over the internet, none of which can be done with the console.\n",
    "\n",
    "We use the `return` keyword to make this happen.  The `return` statement ends\n",
    "function execution and specifies a value to be returned to the function caller.\n",
    "\n",
    "Let's see it in action.  In the code cell below, there is a declared function\n",
    "`areaOfRect` that accepts a `length` parameter and a `width` parameter.  The\n",
    "function multiplies those values together and returns the product to the\n",
    "`console.log` statement where it was called."
   ]
  },
  {
   "cell_type": "code",
   "execution_count": null,
   "metadata": {},
   "outputs": [],
   "source": [
    "function areaOfRect(length, width) {\n",
    "    return length * width;\n",
    "}\n",
    "\n",
    "console.log(areaOfRect(3, 4));"
   ]
  },
  {
   "cell_type": "markdown",
   "metadata": {},
   "source": [
    "I know, I just said real world programs wouldn't use console.log!  And that's\n",
    "true, in the real world you'd likely see something like\n",
    "`window.setText(areaOfRect(3, 4))` or maybe `internet.sendMessage(areaOfRect(3,\n",
    "4))`.  Using the return statement means that we could do all or none of these\n",
    "things without changing the function itself.\n",
    "\n",
    "---\n",
    "\n",
    "Let's practice using parameters and return. The code cell below has the declaration of a\n",
    "function named `feetToInches`, which accepts one parameter, named `feet`, and returns\n",
    "that value converted into inches. It is not being called anywhere yet, so go ahead and\n",
    "write your own function call for `feetToInches`.  Make sure to log it to the\n",
    "console, as well!"
   ]
  },
  {
   "cell_type": "code",
   "execution_count": null,
   "metadata": {},
   "outputs": [],
   "source": [
    "function feetToInches(feet) {\n",
    "  return feet * 12;\n",
    "}\n",
    "\n",
    "//Call the function on the next line and log the value it returns to the console\n"
   ]
  },
  {
   "cell_type": "markdown",
   "metadata": {},
   "source": [
    "Once you've got that working, try writing a function from scratch.  Declare a\n",
    "function named `yardsToFeet`, which will accept one parameter, named `yards`,\n",
    "and will return that value multiplied by 3. If you've done so successfully, the\n",
    "program should print `12`."
   ]
  },
  {
   "cell_type": "code",
   "execution_count": null,
   "metadata": {},
   "outputs": [],
   "source": [
    "\n",
    "\n",
    "//Declare your function above this line\n",
    "console.log(yardsToFeet(4));"
   ]
  },
  {
   "cell_type": "markdown",
   "metadata": {},
   "source": [
    "One last thing - when multiple functions are `nested`, like they are in\n",
    "many of these examples, the function on the inside must finish what it's doing\n",
    "before the outside function can do any work. When you think about it, it makes\n",
    "some sense; before we can print the area of our rectangle, we have to calculate\n",
    "it first.\n",
    "\n",
    "```javascript\n",
    "console.log(areaOfRect(3, 4));\n",
    "```\n",
    "\n",
    "`log()` is put on hold until `areaOfRect()` has finished. Methods can be nested\n",
    "many times, tens of thousands at least, but there is a limit. After that limit, you will receive a `StackOverflow` error."
   ]
  }
 ],
 "metadata": {
  "kernelspec": {
   "display_name": "JavaScript",
   "language": "javascript",
   "name": "jslab"
  },
  "language_info": {
   "file_extension": ".js",
   "mimetype": "text/javascript",
   "name": "javascript",
   "version": ""
  },
  "orig_nbformat": 4
 },
 "nbformat": 4,
 "nbformat_minor": 2
}
