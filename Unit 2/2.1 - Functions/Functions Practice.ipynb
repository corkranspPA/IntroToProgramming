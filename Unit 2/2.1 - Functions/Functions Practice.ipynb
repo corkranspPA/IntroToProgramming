{
 "cells": [
  {
   "cell_type": "markdown",
   "id": "ac6765ff",
   "metadata": {},
   "source": [
    "# 🧠 Classwork: Practicing Simple JavaScript Functions\n",
    "\n",
    "> 💡 These exercises build confidence with defining and calling functions that don't take any inputs or return any values. Complete them in order and try your best before asking for help!"
   ]
  },
  {
   "cell_type": "markdown",
   "id": "e3f4e2e4",
   "metadata": {},
   "source": [
    "## ✅ 1. Calling Prewritten Functions\n",
    "In the following code, two functions are already defined. Add lines to **call** each function so that their messages are printed to the console."
   ]
  },
  {
   "cell_type": "code",
   "execution_count": null,
   "id": "02a0592e",
   "metadata": {},
   "outputs": [],
   "source": [
    "function sayHi() {\n",
    "    console.log(\"Hi there!\");\n",
    "}\n",
    "\n",
    "function cheer() {\n",
    "    console.log(\"You can do it!\");\n",
    "}\n",
    "\n",
    "let output1 = [];\n",
    "const originalLog1 = console.log;\n",
    "console.log = (msg) => output1.push(msg);\n",
    "// ✅ Auto-Grading: Do not modify anything above this line!\n",
    "// Write your function calls here\n",
    "\n",
    "\n",
    "// ✅ Auto-Grading: Do not modify anything below this line!\n",
    "console.log = originalLog1;\n",
    "\n",
    "if (!output1.includes(\"Hi there!\")) throw new Error(\"❌ sayHi() must print 'Hi there!'\");\n",
    "if (!output1.includes(\"You can do it!\")) throw new Error(\"❌ cheer() must print 'You can do it!'\");\n",
    "console.log(\"✅ Test passed!\");"
   ]
  },
  {
   "cell_type": "markdown",
   "id": "cb008cac",
   "metadata": {},
   "source": [
    "## ✍️ 2. Write Your Own Function\n",
    "Write a function called `motivate` that prints a short motivational message to the console."
   ]
  },
  {
   "cell_type": "code",
   "execution_count": null,
   "id": "b3c2ec96",
   "metadata": {},
   "outputs": [],
   "source": [
    "// Your function definition here\n"
   ]
  },
  {
   "cell_type": "code",
   "execution_count": null,
   "id": "73ab6328",
   "metadata": {},
   "outputs": [],
   "source": [
    "// ✅ Auto-Grading: motivate()\n",
    "let output2 = [];\n",
    "const originalLog2 = console.log;\n",
    "console.log = (msg) => output2.push(msg);\n",
    "\n",
    "try {\n",
    "  motivate();\n",
    "} catch (e) {\n",
    "  throw new Error(\"❌ Could not call motivate(). Did you define it?\");\n",
    "}\n",
    "\n",
    "console.log = originalLog2;\n",
    "if (output2.length === 0) throw new Error(\"❌ motivate() must print something\");\n",
    "console.log(\"✅ Test passed!\");"
   ]
  },
  {
   "cell_type": "markdown",
   "id": "37c4d49e",
   "metadata": {},
   "source": [
    "## 🧹 3. Cleaning Reminder\n",
    "Write a function named `remindToClean` that prints a friendly reminder to clean\n",
    "your workspace.  Then, try calling it twice!"
   ]
  },
  {
   "cell_type": "code",
   "execution_count": null,
   "id": "e0313d3a",
   "metadata": {},
   "outputs": [],
   "source": [
    "// Define your function here\n",
    "\n",
    "\n",
    "// ✅ Auto-Grading: remindToClean()\n",
    "let output3 = [];\n",
    "const originalLog3 = console.log;\n",
    "console.log = (msg) => output3.push(msg);\n",
    "\n",
    "try {\n",
    "  // ✅ Auto-Grading: Do not modify anything above this line!\n",
    "  // Call the function you wrote in here, twice\n",
    "\n",
    "\n",
    "  // ✅ Auto-Grading: Do not modify anything below this line!\n",
    "} catch (e) {\n",
    "  throw new Error(\"❌ Could not call remindToClean(). Did you define it?\");\n",
    "}\n",
    "\n",
    "console.log = originalLog3;\n",
    "if (output3.length < 2) throw new Error(\"❌ remindToClean() must be called twice\");\n",
    "console.log(\"✅ Test passed!\");"
   ]
  },
  {
   "cell_type": "markdown",
   "id": "3701939d",
   "metadata": {},
   "source": [
    "## 🧪 4. Order of Execution\n",
    "Here's some code:\n",
    "```javascript\n",
    "function hello() {\n",
    "    console.log(\"Hello\");\n",
    "}\n",
    "\n",
    "console.log(\"Before the function call\");\n",
    "hello();\n",
    "console.log(\"After the function call\");\n",
    "```\n",
    "Without running it, write down the **expected output**. Then run the code and check your answer."
   ]
  },
  {
   "cell_type": "code",
   "execution_count": null,
   "id": "48631069",
   "metadata": {},
   "outputs": [],
   "source": [
    "function hello() {\n",
    "    console.log(\"Hello\");\n",
    "}\n",
    "\n",
    "console.log(\"Before the function call\");\n",
    "hello();\n",
    "console.log(\"After the function call\");"
   ]
  },
  {
   "cell_type": "markdown",
   "id": "7bc508eb",
   "metadata": {},
   "source": [
    "## 🎉 5. Challenge\n",
    "Write a function called `drumroll` that prints three dots (`...`) to the console, one at a time. Then prints `\"Ta-da!\"`.\n",
    "\n",
    "Expected output:\n",
    "```\n",
    ".\n",
    ".\n",
    ".\n",
    "Ta-da!\n",
    "```\n",
    "Try to use **multiple `console.log()` statements** inside your function."
   ]
  },
  {
   "cell_type": "code",
   "execution_count": null,
   "id": "3523b4d7",
   "metadata": {},
   "outputs": [],
   "source": [
    "// Your drumroll function here\n",
    "\n",
    "// Call it"
   ]
  },
  {
   "cell_type": "code",
   "execution_count": null,
   "id": "f0ef1d88",
   "metadata": {},
   "outputs": [],
   "source": [
    "// ✅ Auto-Grading: drumroll()\n",
    "let output5 = [];\n",
    "const originalLog5 = console.log;\n",
    "console.log = (msg) => output5.push(msg);\n",
    "\n",
    "try {\n",
    "  drumroll();\n",
    "} catch (e) {\n",
    "  throw new Error(\"❌ Could not call drumroll(). Did you define it?\");\n",
    "}\n",
    "\n",
    "console.log = originalLog5;\n",
    "let dotCount = output5.filter(x => x === \".\").length;\n",
    "if (dotCount < 3) throw new Error(\"❌ drumroll() must print at least three dots (.)\");\n",
    "if (!output5.includes(\"Ta-da!\")) throw new Error(\"❌ drumroll() must print 'Ta-da!'\");\n",
    "console.log(\"✅ Test passed!\");"
   ]
  }
 ],
 "metadata": {
  "kernelspec": {
   "display_name": "JavaScript",
   "language": "javascript",
   "name": "jslab"
  },
  "language_info": {
   "file_extension": ".js",
   "mimetype": "text/javascript",
   "name": "javascript",
   "version": ""
  }
 },
 "nbformat": 4,
 "nbformat_minor": 5
}
