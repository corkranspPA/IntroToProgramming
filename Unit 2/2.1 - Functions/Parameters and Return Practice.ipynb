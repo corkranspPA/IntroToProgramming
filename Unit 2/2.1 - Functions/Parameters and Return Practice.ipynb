{
 "cells": [
  {
   "cell_type": "markdown",
   "id": "3f936934",
   "metadata": {},
   "source": [
    "# 🧠 Practice Parameters & Return Values\n",
    "\n",
    "> 💡 These exercises help you practice writing functions that take **parameters** and use the **return** keyword. Follow the directions and check your work with the automatic tests."
   ]
  },
  {
   "cell_type": "markdown",
   "id": "9e43b5f8",
   "metadata": {},
   "source": [
    "## ✍️ 1. Say Hello to Someone\n",
    "Write a function called `greetPerson` that takes a **name** as a parameter and returns:\n",
    "`Hello, <name>!`\n",
    "\n",
    "**Make sure not to use console.log() in your function!**"
   ]
  },
  {
   "cell_type": "code",
   "execution_count": null,
   "id": "f2960c45",
   "metadata": {},
   "outputs": [],
   "source": [
    "function greetPerson(name) {\n",
    "    // Your code here\n",
    "}"
   ]
  },
  {
   "cell_type": "code",
   "execution_count": null,
   "id": "fca8d2f3",
   "metadata": {},
   "outputs": [],
   "source": [
    "// ✅ Auto-Grading: greetPerson()\n",
    "if (!greetPerson('Ava') == \"Hello, Ava!\") throw new Error(\"❌ greetPerson('Ava') should print 'Hello, Ava!'\");\n",
    "if (!greetPerson('Liam') == \"Hello, Liam!\") throw new Error(\"❌ greetPerson('Liam') should print 'Hello, Liam!'\");\n",
    "console.log(\"✅ Test passed!\");"
   ]
  },
  {
   "cell_type": "markdown",
   "id": "d18fed38",
   "metadata": {},
   "source": [
    "## 🔢 2. Double It\n",
    "Write a function called `doubleNumber` that takes a number and returns **twice** its value."
   ]
  },
  {
   "cell_type": "code",
   "execution_count": null,
   "id": "861762bf",
   "metadata": {},
   "outputs": [],
   "source": [
    "function doubleNumber(num) {\n",
    "    // Your code here\n",
    "}"
   ]
  },
  {
   "cell_type": "code",
   "execution_count": null,
   "id": "e88be8c2",
   "metadata": {},
   "outputs": [],
   "source": [
    "// ✅ Auto-Grading: doubleNumber()\n",
    "if (doubleNumber(2) !== 4) throw new Error(\"❌ doubleNumber(2) should return 4\");\n",
    "if (doubleNumber(7) !== 14) throw new Error(\"❌ doubleNumber(7) should return 14\");\n",
    "console.log(\"✅ Test passed!\");"
   ]
  },
  {
   "cell_type": "markdown",
   "id": "d9942c42",
   "metadata": {},
   "source": [
    "## 🧮 3. Add Two Numbers\n",
    "Write a function called `add` that takes two numbers and returns their sum."
   ]
  },
  {
   "cell_type": "code",
   "execution_count": null,
   "id": "1e1b856c",
   "metadata": {},
   "outputs": [],
   "source": [
    "function add(a, b) {\n",
    "    // Your code here\n",
    "}"
   ]
  },
  {
   "cell_type": "code",
   "execution_count": null,
   "id": "875e074e",
   "metadata": {},
   "outputs": [],
   "source": [
    "// ✅ Auto-Grading: add()\n",
    "if (add(3, 5) !== 8) throw new Error(\"❌ add(3, 5) should return 8\");\n",
    "if (add(-1, 1) !== 0) throw new Error(\"❌ add(-1, 1) should return 0\");\n",
    "console.log(\"✅ Test passed!\");"
   ]
  },
  {
   "cell_type": "markdown",
   "id": "783e5007",
   "metadata": {},
   "source": [
    "## 📛 4. Full Names\n",
    "Write a function called `makeFullName` that takes two parameters, `first` and\n",
    "`last`, and returns the two parameters as a full name."
   ]
  },
  {
   "cell_type": "code",
   "execution_count": null,
   "id": "30d1155c",
   "metadata": {},
   "outputs": [],
   "source": [
    "function makeFullName(first, last) {\n",
    "    // Your code here\n",
    "}"
   ]
  },
  {
   "cell_type": "code",
   "execution_count": null,
   "id": "af695c99",
   "metadata": {},
   "outputs": [],
   "source": [
    "// ✅ Auto-Grading: canVote()\n",
    "if (makeFullName(\"Ada\", \"Lovelace\") !== \"Ada Lovelace\") throw new Error(\"❌ makeFullName('Ada', 'Lovelace') should return 'Ada Lovelace'\");\n",
    "if (makeFullName(\"Grace\", \"Hopper\") !== \"Grace Hopper\") throw new Error(\"❌ makeFullName('Grace', 'Hopper') should return 'Grace Hopper'\");\n",
    "console.log(\"✅ Test passed!\");"
   ]
  },
  {
   "cell_type": "markdown",
   "id": "3761db0c",
   "metadata": {},
   "source": [
    "## 🎉 5. Bonus: Shout It!\n",
    "Write a function called `shout` that takes a string and returns it in **all caps** with three exclamation points."
   ]
  },
  {
   "cell_type": "code",
   "execution_count": null,
   "id": "75f116e1",
   "metadata": {},
   "outputs": [],
   "source": [
    "function shout(text) {\n",
    "    // Your code here\n",
    "}"
   ]
  },
  {
   "cell_type": "code",
   "execution_count": null,
   "id": "97bf509e",
   "metadata": {},
   "outputs": [],
   "source": [
    "// ✅ Auto-Grading: shout()\n",
    "if (shout(\"hello\") !== \"HELLO!!!\") throw new Error(\"❌ shout('hello') should return 'HELLO!!!'\");\n",
    "if (shout(\"wow\") !== \"WOW!!!\") throw new Error(\"❌ shout('wow') should return 'WOW!!!'\");\n",
    "console.log(\"✅ Test passed!\");"
   ]
  }
 ],
 "metadata": {
  "kernelspec": {
   "display_name": "JavaScript",
   "language": "javascript",
   "name": "jslab"
  },
  "language_info": {
   "file_extension": ".js",
   "mimetype": "text/javascript",
   "name": "javascript",
   "version": ""
  }
 },
 "nbformat": 4,
 "nbformat_minor": 5
}
