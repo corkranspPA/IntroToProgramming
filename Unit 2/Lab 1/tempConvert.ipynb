{
 "cells": [
  {
   "cell_type": "markdown",
   "metadata": {},
   "source": [
    "# Lab 1 - TempConvert \n",
    "\n",
    "Our first full and graded lab! This document will talk about your task in\n",
    "detail, as well as how to test for correctness and completion on your own.\n",
    "\n",
    "## Task\n",
    "\n",
    "Create a javascript file named `tempConvert.js` with two functions, `celsiusToFahrenheit` and\n",
    "`fahrenheitToCelsius`. *Spelling matters in these labs, as does capitalization!*\n",
    "\n",
    "### fahrenheitToCelsius\n",
    "\n",
    "This method will accept one parameter, the temperature in fahrenheit, and will\n",
    "return that value converted to celsius.\n",
    "\n",
    "The formula to do so is `(F − 32) * 5/9 = C`.\n",
    "\n",
    "\n",
    "### celsiusToFahrenheit\n",
    "\n",
    "Conversely, this method also accepts a parameter, the temperature in celsius,\n",
    "and will return that value converted to fahrenheit.\n",
    "\n",
    "The formula to do so is `(C * 9/5) + 32 = F`.\n",
    "\n",
    "## Testing your work\n",
    "\n",
    "To check your work for this lab, use `npm test tempConvert.test.js` in the\n",
    "terminal. If you don't see the terminal, try ``control+` ``on your keyboard, or\n",
    "go to the waffle menu at the top-left of this webpage and head to `View ->\n",
    "Terminal`.\n",
    "\n",
    "**If all tests pass, you are guaranteed a minimum grade of 90 when you submit.**\n",
    "I strongly suggest taking advantage of this tool!\n",
    "\n",
    "## Submission\n",
    "\n",
    "Right click your tempConvert.js file in the explorer to the left, then select\n",
    "'Download'. Head to the assignment page for this lab in myProctor, and drop that\n",
    "file into the submission dropbox. Contact me on Webex for help with this process!"
   ]
  }
 ],
 "metadata": {
  "language_info": {
   "name": "python"
  },
  "orig_nbformat": 4
 },
 "nbformat": 4,
 "nbformat_minor": 2
}
