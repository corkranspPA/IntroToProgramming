{
 "cells": [
  {
   "cell_type": "markdown",
   "metadata": {},
   "source": [
    "# Functions 1 - Declaring and Calling\n",
    "\n",
    "**Functions** are one of the fundamental building blocks in JavaScript. A `function`\n",
    "in JavaScript is a set of statements that performs a task or calculates a value.\n",
    "\n",
    "For example, the built-in `log()` function in the `console` object performs the task of\n",
    "printing the provided value to the console. As another example, the built-in `abs()` function in the `Math`\n",
    "object calculates the absolute value of the provided value."
   ]
  },
  {
   "cell_type": "code",
   "execution_count": null,
   "metadata": {},
   "outputs": [],
   "source": [
    "console.log(\"Hello there!\");\n",
    "console.log('The absolute value of -42 is: ' + Math.abs(-42));"
   ]
  },
  {
   "cell_type": "markdown",
   "metadata": {},
   "source": [
    "Functions will always have a set of parenthesis following them, referred to as a\n",
    "**parameter list**.  This contains any **parameter** or **argument** a function needs to operate.\n",
    "`console.log` needs to know what data to print, and `Math.abs` needs to know what\n",
    "value to attempt to find the absolute value of."
   ]
  },
  {
   "cell_type": "markdown",
   "metadata": {},
   "source": [
    "\n",
    "\n",
    "## Declaring a function\n",
    "\n",
    "We can also create our own functions, which is endlessly useful! To use a\n",
    "function, you must first **declare** it, similar to the way you must declare a\n",
    "variable before you can use it.\n",
    "\n",
    "A function declaration consists of the function keyword, followed by:\n",
    "\n",
    "- The name of the function.\n",
    "- A list of parameters to the function, enclosed in parentheses `( )` and separated by\n",
    "  commas.\n",
    "- The JavaScript statements that define the function, enclosed in a **block**\n",
    "  marked by curly brackets, `{ }`.\n",
    "\n",
    "For example, the following code defines a simple function named greet:\n",
    "\n",
    "```javascript\n",
    "function greet() {\n",
    "  console.log('Howdy there!');\n",
    "}\n",
    "```\n",
    "\n",
    "The function `greet` has an empty parameter list and consists of one statement that logs\n",
    "\"Howdy there!\" to the console.\n",
    "\n",
    "## Calling functions\n",
    "*Declaring* a function does not *execute* it. Declaring it names the function\n",
    "and specifies what to do when the function is called.\n",
    "\n",
    "**Calling** the function actually performs the specified actions. For example, if you declare the function `greet` as shown above, you could call it as\n",
    "follows:\n",
    "\n",
    "```javascript\n",
    "greet();\n",
    "```\n",
    "\n",
    "The statement above calls the function. The function\n",
    "executes its statements and then ends, allowing the program to continue on.  See\n",
    "it in action below!"
   ]
  },
  {
   "cell_type": "code",
   "execution_count": 2,
   "metadata": {},
   "outputs": [
    {
     "name": "stdout",
     "output_type": "stream",
     "text": [
      "Starting program...\n",
      "Howdy there!\n",
      "Ending program\n"
     ]
    }
   ],
   "source": [
    "function greet() {\n",
    "  console.log('Howdy there!');\n",
    "}\n",
    "\n",
    "console.log('Calling greet()...');\n",
    "greet();\n",
    "console.log('greet() finished.');"
   ]
  },
  {
   "cell_type": "markdown",
   "metadata": {},
   "source": [
    "Although the function is declared at the very top, it isn't executed until\n",
    "called on line six.  Functions are the first of many programming tools that can\n",
    "break the normal flow of code that we will be utilizing this term.\n",
    "\n",
    "One the chief benefits of using functions is that it makes your code\n",
    "**reusable**.  A function might consist of dozens or hundreds of lines of code,\n",
    "and you can call it with just a few keystrokes anytime you want."
   ]
  },
  {
   "cell_type": "code",
   "execution_count": 1,
   "metadata": {},
   "outputs": [
    {
     "name": "stdout",
     "output_type": "stream",
     "text": [
      "1\n",
      "3\n",
      "6\n",
      "5\n",
      "2\n"
     ]
    }
   ],
   "source": [
    "function rollDie() {\n",
    "    console.log(Math.floor(Math.random() * 6 + 1));\n",
    "}\n",
    "\n",
    "//Let's roll some dice!\n",
    "rollDie();\n",
    "rollDie();\n",
    "rollDie();\n",
    "rollDie();\n",
    "rollDie();"
   ]
  },
  {
   "cell_type": "markdown",
   "metadata": {},
   "source": [
    "Before you continue on to Function 2, try some of this out for yourself.  Down\n",
    "below, there is a function named `printClass` already declared in the code cell.  It isn't being\n",
    "called yet, so if you run the cell nothing will happen.  Go ahead and call the\n",
    "function, then run the code to see the output."
   ]
  },
  {
   "cell_type": "code",
   "execution_count": null,
   "metadata": {},
   "outputs": [],
   "source": [
    "function printClass() {\n",
    "    console.log('Introduction to Programming');\n",
    "}\n",
    "\n",
    "//Call the function under this line\n"
   ]
  },
  {
   "cell_type": "markdown",
   "metadata": {},
   "source": [
    "Now, try writing a function from scratch in the code cell below.  The name of\n",
    "the function should be `printName`, and it should consist of a console.log\n",
    "statement that prints your name.  If you are successful, the code cell\n",
    "below will print your name when run."
   ]
  },
  {
   "cell_type": "code",
   "execution_count": 12,
   "metadata": {},
   "outputs": [
    {
     "name": "stderr",
     "output_type": "stream",
     "text": [
      "3:1 - Cannot find name 'printname'.\n"
     ]
    }
   ],
   "source": [
    "\n",
    "//Define your function above this line\n",
    "printname();"
   ]
  }
 ],
 "metadata": {
  "kernelspec": {
   "display_name": "JavaScript",
   "language": "javascript",
   "name": "jslab"
  },
  "language_info": {
   "file_extension": ".js",
   "mimetype": "text/javascript",
   "name": "javascript",
   "version": ""
  },
  "orig_nbformat": 4
 },
 "nbformat": 4,
 "nbformat_minor": 2
}
