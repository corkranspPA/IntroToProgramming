{
 "cells": [
  {
   "cell_type": "markdown",
   "metadata": {},
   "source": [
    "For class today, please attempt to fix some broken code!\n",
    "\n",
    "Some tips:\n",
    "\n",
    "When errors prevent a program from running (often indicated with red squiggles),\n",
    "it can also prevent the computer from understanding anything written after the\n",
    "error.  Try to solve errors from the top to the bottom; solving the top-most\n",
    "error might make the rest of the errors disappear.\n",
    "\n",
    "Computers are dumb; they can't make good guesses about what you meant to do.\n",
    "Error messages might help you out or lead you astray!\n",
    "\n",
    "Syntax errors and other problems that cause red squiggles are easy to find and\n",
    "fix.  Logical errors, where the code is runnable but produces incorrect results,\n",
    "are harder to notice and fix."
   ]
  }
 ],
 "metadata": {
  "language_info": {
   "name": "python"
  }
 },
 "nbformat": 4,
 "nbformat_minor": 2
}
