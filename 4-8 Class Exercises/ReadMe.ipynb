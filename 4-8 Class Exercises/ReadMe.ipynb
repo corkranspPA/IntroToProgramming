{
 "cells": [
  {
   "cell_type": "markdown",
   "metadata": {},
   "source": [
    "For class today, please attempt to fix some broken code!\n",
    "\n",
    "Some tips:\n",
    "\n",
    "When errors prevent a program from running (often indicated with red squiggles),\n",
    "it can also prevent the computer from understanding anything coming after the,\n",
    "error.  Try to solve errors from the top to the bottom!"
   ]
  }
 ],
 "metadata": {
  "language_info": {
   "name": "python"
  }
 },
 "nbformat": 4,
 "nbformat_minor": 2
}
