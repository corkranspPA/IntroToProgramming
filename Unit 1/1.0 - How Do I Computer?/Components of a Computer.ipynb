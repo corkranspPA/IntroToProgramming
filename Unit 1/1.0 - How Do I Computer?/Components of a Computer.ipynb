{
 "cells": [
  {
   "cell_type": "markdown",
   "metadata": {},
   "source": [
    "# The Four Computer Components\n",
    "\n",
    "## Input\n",
    "\n",
    "Anything that a computer can use to receive information from the programmer or\n",
    "the world around it.  The keyboard and mouse, a touchscreen, cameras,\n",
    "microphones, game controllers, and sensors of all kinds (light, distance, speed,\n",
    "rotation, and more) are all examples of inputs.\n",
    "\n",
    "## Output\n",
    "\n",
    "Anything a computer can use to return information or perform an action in the\n",
    "real world.  Speakers, monitors, printers, robotic arms, servos, motors, and status lights are\n",
    "all examples of computer outputs.\n",
    "\n",
    "## Processing\n",
    "\n",
    "The ability of a computer to perform tasks and make decisions.  Modern computers\n",
    "utilize special computer chips to perform processing.  Early computers such as\n",
    "tally sticks and the abacus often used the human operator as the processor, but\n",
    "that still counts as a computer system!\n",
    "\n",
    "## Storage\n",
    "\n",
    "The ability of a computer to store and recall information.  Modern computers use\n",
    "two different types: `primary` and `secondary` storage.\n",
    "\n",
    "Primary storage uses electricity, and is therefore very fast and suitable for doing actual work, but\n",
    "is erased when the computer powers down ('`volatile`' is the word used to\n",
    "describe this trait).\n",
    "\n",
    "Secondary memory stores information most commonly with a magnetic\n",
    "platter and a needle, which is too slow to actually work with a processor but\n",
    "is not wiped when the computer powers down."
   ]
  }
 ],
 "metadata": {
  "language_info": {
   "name": "python"
  },
  "orig_nbformat": 4
 },
 "nbformat": 4,
 "nbformat_minor": 2
}
