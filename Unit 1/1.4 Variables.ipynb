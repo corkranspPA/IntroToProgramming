{
 "cells": [
  {
   "cell_type": "markdown",
   "metadata": {},
   "source": [
    "# Variables\n",
    "\n",
    "Most of the time, a JavaScript application needs to work with information. Here are two examples:\n",
    "\n",
    "- An online shop – the information might include goods being sold and a shopping cart.\n",
    "- A chat application – the information might include users, messages, and much more.\n",
    "\n",
    "A **variable** allows us to store this information for later use. They are a very\n",
    "basic yet critical programming tool, as they allow us to utilize Storage, one of our critical\n",
    "computer components.\n",
    "\n",
    "Run the code cell below to see variables in action."
   ]
  },
  {
   "cell_type": "code",
   "execution_count": 1,
   "metadata": {},
   "outputs": [
    {
     "name": "stdout",
     "output_type": "stream",
     "text": [
      "value of x: 5\n",
      "value of y: 6\n",
      "value of z: 11\n"
     ]
    }
   ],
   "source": [
    "let x = 5;\n",
    "let y = 6;\n",
    "let z = x + y;\n",
    "\n",
    "console.log('value of x: ' + x);\n",
    "console.log('value of y: ' + y);\n",
    "console.log('value of z: ' + z);"
   ]
  },
  {
   "cell_type": "markdown",
   "metadata": {},
   "source": [
    "You may already have a good idea of how variables work based on the code above,\n",
    "especially if you have already taken algebra. A programming variable is really\n",
    "the same thing: a name for a known or unknown value.\n",
    "\n",
    "## Creating a Variable\n",
    "\n",
    "Before a variable can be used, it must first be **declared**. To declare a\n",
    "variable, we will start with one of two possible keywords: `let` and `const`.\n",
    "Using **const** will make the variable a constant, meaning that once it has a\n",
    "value, that value may not change.  **let**, on the other hand, allows a variable to\n",
    "change the stored value later on.\n",
    "\n",
    "Then, we need to provide a name for our variable.  This tells JavaScript \"hey,\n",
    "when I say 'x', I'm really referring to the value stored in the variable named\n",
    "'x'!\" Although you can pick your own variable names, there are some conditions\n",
    "and best practices, which we talk about further down.\n",
    "\n",
    "```java\n",
    "let numberOfStudents;\n",
    "```\n",
    "\n",
    "Finally, the variable has been declared and may now be used to store values.\n",
    "Right now, the stored value is `undefined`, but can assign the variable real value with the **assignment operator** (`=`), as shown below.\n",
    "\n",
    "```java\n",
    "numberOfStudents = 12;\n",
    "```\n",
    "\n",
    "From now on, anytime we refer to `numberOfStudents`, JavaScript will know to use\n",
    "the value currently stored in that variable.\n",
    "\n",
    "```javascript\n",
    "console.log(numberOfStudents);\n",
    "```\n",
    "\n",
    "Try this out in the code cell below! "
   ]
  },
  {
   "cell_type": "code",
   "execution_count": 1,
   "metadata": {},
   "outputs": [
    {
     "name": "stdout",
     "output_type": "stream",
     "text": [
      "undefined\n",
      "12\n"
     ]
    }
   ],
   "source": [
    "let numberOfStudents;\n",
    "console.log(numberOfStudents); // Output: undefined\n",
    "numberOfStudents = 12;\n",
    "console.log(numberOfStudents); // Output: 12"
   ]
  },
  {
   "cell_type": "markdown",
   "metadata": {},
   "source": [
    "You may declare and assign a variable on the same line, and you will probably do\n",
    "so quite a bit this term!  It looks nicer and takes up less space.  See the code segment below to see all of this in\n",
    "action. Try changing the value of `radius` and see how it affects the output."
   ]
  },
  {
   "cell_type": "code",
   "execution_count": null,
   "metadata": {},
   "outputs": [],
   "source": [
    "let radius = 10; //keyword 'let', followed by the name 'radius', being assigned the value 10\n",
    "const pi = 3.14; //keyword 'const', followed by the name 'pi', being permanently assigned to the value 3.14\n",
    "\n",
    "console.log(pi * radius * radius); //print area of circle (pi*r^2)"
   ]
  },
  {
   "cell_type": "markdown",
   "metadata": {},
   "source": [
    "## Reassigning variables\n",
    "\n",
    "If you create a variable using `let`, the value can change over the course of\n",
    "the program. To change it, we can simply use the assignment operator again.\n",
    "\n",
    "Be aware that computers generally execute lines of code one at a time, from top\n",
    "to bottom. Therefore, *where* you choose to assign and reassign variables may\n",
    "have a big effect on how your code runs!"
   ]
  },
  {
   "cell_type": "code",
   "execution_count": 3,
   "metadata": {},
   "outputs": [
    {
     "name": "stdout",
     "output_type": "stream",
     "text": [
      "my favorite color right now is blue\n",
      "now, my favorite color is orange\n"
     ]
    }
   ],
   "source": [
    "let favoriteColor = 'blue'; \n",
    "console.log('my favorite color right now is ' + favoriteColor);\n",
    "favoriteColor = 'orange'; //Changed my mind! I like orange now.\n",
    "console.log('now, my favorite color is ' + favoriteColor);"
   ]
  },
  {
   "cell_type": "markdown",
   "metadata": {},
   "source": [
    "When changing values, make sure you don't attempt to declare the\n",
    "variable twice!  Declaring a variable twice will cause\n",
    "an error in most programming languages."
   ]
  },
  {
   "cell_type": "code",
   "execution_count": 2,
   "metadata": {},
   "outputs": [
    {
     "name": "stderr",
     "output_type": "stream",
     "text": [
      "1:5 - Cannot redeclare block-scoped variable 'age'.\n",
      "3:5 - Cannot redeclare block-scoped variable 'age'.\n"
     ]
    }
   ],
   "source": [
    "let age = 15;\n",
    "console.log('yesterday, I was ' + age);\n",
    "let age = 16; //this line causes an error!\n",
    "console.log('today, I am ' + age);"
   ]
  },
  {
   "cell_type": "markdown",
   "metadata": {},
   "source": [
    "Variables can store any type of data, from Numbers, to Strings, to more complex\n",
    "Objects.  For more information, see Data Types.ipynb!"
   ]
  }
 ],
 "metadata": {
  "kernelspec": {
   "display_name": "JavaScript",
   "language": "javascript",
   "name": "jslab"
  },
  "language_info": {
   "file_extension": ".js",
   "mimetype": "text/javascript",
   "name": "javascript",
   "version": ""
  },
  "orig_nbformat": 4
 },
 "nbformat": 4,
 "nbformat_minor": 2
}
