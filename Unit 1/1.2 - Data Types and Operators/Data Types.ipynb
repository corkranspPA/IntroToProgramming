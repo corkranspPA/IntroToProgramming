{
 "cells": [
  {
   "cell_type": "markdown",
   "metadata": {},
   "source": [
    "# Data Types\n",
    "\n",
    "In many programming languages, we need to classify the type of data we are\n",
    "working with so that the computer can understand us better. In JavaScript, there\n",
    "are six basic, or **primitive**, data types.\n",
    "\n",
    "- Number: Any number, including numbers with decimals and negative numbers: 2, 4, 2.5, -3791, 39.99.\n",
    "- String: Any grouping of characters on your keyboard (letters, numbers, spaces,\n",
    "  symbols, etc.) surrounded by single quotes: ' ... ' or double quotes \" ... \".\n",
    "  You'll often hear me calling it 'text' to keep things simple.\n",
    "- Boolean: This data type only has two possible values — true and false (without quotes). It’s helpful to think of booleans as on and off switches or as the answers to a “yes” or “no” question.\n",
    "- Null: This data type represents the intentional absence of a value, and is represented by the keyword null (without quotes).\n",
    "- Undefined: This data type is denoted by the keyword undefined (without quotes). It also represents the absence of a value though it has a different use than null. undefined means that a given value does not exist.\n",
    "- Symbol: A newer feature to the language, symbols are unique identifiers,\n",
    "  useful in more complex coding. We won't see these in this course!\n",
    "\n",
    "In addition to these primitive types, there are also **objects**, which are\n",
    "collections of related data.  They are more complex, but we'll be learning\n",
    "plenty about them as we go along.\n",
    "  \n",
    "## Strings and Numbers\n",
    "\n",
    "Before we do that, though, let's get more\n",
    "comfortable with strings and numbers, which are likely the data we will be\n",
    "working with the most. Check out the code cell below 👇."
   ]
  },
  {
   "cell_type": "code",
   "execution_count": null,
   "metadata": {},
   "outputs": [],
   "source": [
    "console.log('To be, or not to be, that is the question.');\n",
    "console.log(\"Hello\");\n",
    "console.log(40);"
   ]
  },
  {
   "cell_type": "markdown",
   "metadata": {},
   "source": [
    "In the example above, we first print out a string using console.log. **Strings** (short for 'a string\n",
    "of characters') can have letters, numbers, punctuation, and more. In addition, they can be of essentially any\n",
    "length.  Text surrounded by either single or double quotes (`' '` or `\" \"`) is called a\n",
    "**string literal**; that is, it is *literally* the text within.\n",
    "\n",
    "The second console.log statement is printing a **number**. Numbers can include\n",
    "decimal and negative values, and the computer can perform arithmetic operations\n",
    "on any number(s).\n",
    "\n",
    "Note the coloring - the computer highlights string literals in green and numeric\n",
    "values as orange.  This can help you to ensure you're dealing with the right\n",
    "type of data!  Different data types can behave wildly differently in the same\n",
    "scenario.  Try running the code cell below:"
   ]
  },
  {
   "cell_type": "code",
   "execution_count": null,
   "metadata": {},
   "outputs": [],
   "source": [
    "console.log(2 + 2);\n",
    "console.log('2' + '2');\n",
    "console.log('2 + 2');\n",
    "console.log('Hello ' + 'Kevin!');"
   ]
  },
  {
   "cell_type": "markdown",
   "metadata": {},
   "source": [
    "In the first line, the computer recognizes the numeric values as just that -\n",
    "numbers!  In that context, JavaScript also recognizes the `+` as an arithmetic\n",
    "operator, and knows it should perform an addition\n",
    "operation on the two values and log the result to the console.\n",
    "\n",
    "In the second line, the computer recognizes the numeric values as text, rather\n",
    "than actual numbers.  When the computer sees a `+` between two strings, it will\n",
    "perform **concatenation** rather than addition.  This gives us the output '22'.\n",
    "Arithmetic *cannot* be performed on strings, as a general rule!\n",
    "\n",
    "On the third line, the `+` operator is *within* the string literal, and therefore\n",
    "JavaScript considers it part of the text, rather than a command.  Our output\n",
    "will *literally* be the same as the string literal we feed in here, in this case\n",
    "'2 + 2'."
   ]
  }
 ],
 "metadata": {
  "kernelspec": {
   "display_name": "JavaScript",
   "language": "javascript",
   "name": "jslab"
  },
  "language_info": {
   "file_extension": ".js",
   "mimetype": "text/javascript",
   "name": "javascript",
   "version": ""
  },
  "orig_nbformat": 4
 },
 "nbformat": 4,
 "nbformat_minor": 2
}
