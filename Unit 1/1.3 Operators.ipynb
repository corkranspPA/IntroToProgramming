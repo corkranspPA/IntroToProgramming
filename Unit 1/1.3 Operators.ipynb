{
 "cells": [
  {
   "cell_type": "markdown",
   "metadata": {},
   "source": [
    "# Operators\n",
    "\n",
    "**Operators** are simple commands you can give the computer. They are less complex\n",
    "and flexible than a function, and there are more of them than are listed here.\n",
    "We'll learn more of them later!\n",
    "\n",
    "## Arithmetic Operators\n",
    "\n",
    "Exactly what it sounds like!\n",
    "\n",
    "- Addition (+)\n",
    "- Subtraction (-)\n",
    "- Division (/)\n",
    "- Multiplication (*)\n",
    "- Modulus (%) a.k.a Division Remainder"
   ]
  },
  {
   "cell_type": "code",
   "execution_count": 2,
   "metadata": {},
   "outputs": [
    {
     "name": "stdout",
     "output_type": "stream",
     "text": [
      "15\n",
      "2\n",
      "100\n",
      "5\n",
      "2\n"
     ]
    }
   ],
   "source": [
    "console.log(10 + 5);\n",
    "console.log(4 - 2);\n",
    "console.log(10 * 10);\n",
    "console.log(25 / 5);\n",
    "console.log(11 % 3); //Remainder of 11 / 3 -> 2"
   ]
  },
  {
   "cell_type": "markdown",
   "metadata": {},
   "source": [
    "### String Concatenation\n",
    "\n",
    "When used with strings, the `+` operator performs what we call **concatenation**.\n",
    "Despite the arcane name, concatenation is simply putting two strings together.\n",
    "See some examples below."
   ]
  },
  {
   "cell_type": "code",
   "execution_count": 1,
   "metadata": {},
   "outputs": [
    {
     "name": "stdout",
     "output_type": "stream",
     "text": [
      "Hello world!\n",
      "Hello Jane!\n",
      "Your grade average is 87.66666666666667\n",
      "I am 15 years old.\n"
     ]
    }
   ],
   "source": [
    "console.log(\"Hello \" + \"world!\");\n",
    "let name = \"Jane\";\n",
    "console.log(\"Hello \" + name + \"!\");\n",
    "//It also works if you combine a string with Number expressions and/or variables. The Number will be converted into a string, then concatenated.\n",
    "console.log(\"Your grade average is \" + (80 + 93 + 90) / 3); \n",
    "let age = 15;\n",
    "console.log(\"I am \" + age + \" years old.\");"
   ]
  },
  {
   "cell_type": "markdown",
   "metadata": {},
   "source": [
    "\n",
    "Make sure you add spaces within your string literals wherever appropriate!\n",
    "\n",
    "### Precedence\n",
    "\n",
    "JavaScript, and the vast majority of other programming languages, respects [PEMDAS](https://en.wikipedia.org/wiki/Order_of_operations)!\n",
    "\n",
    "1. Parenthesis are evaluated first\n",
    "2. Exponents don't have a built-in operator in most programming languages\n",
    "3. Multiplication and division are evaluated second\n",
    "4. Addition and subtraction are performed last\n",
    "\n",
    "Parenthesis can help you enforce the order of operations that you want."
   ]
  },
  {
   "cell_type": "code",
   "execution_count": 2,
   "metadata": {},
   "outputs": [
    {
     "name": "stdout",
     "output_type": "stream",
     "text": [
      "17\n",
      "32\n"
     ]
    }
   ],
   "source": [
    "console.log(5 + 3 * 4);   // Multiplication will be performed first, then addition\n",
    "console.log((5 + 3) * 4); // Forces addition to be performed before multiplication"
   ]
  },
  {
   "cell_type": "markdown",
   "metadata": {},
   "source": [
    "## Assignment Operators\n",
    "\n",
    "Assignment (=) operators assign values to variables.  The left operand is always\n",
    "the variable, and the right operand is always the value.\n",
    "\n",
    "For more information about variables, see Variables.ipynb!"
   ]
  },
  {
   "cell_type": "code",
   "execution_count": null,
   "metadata": {},
   "outputs": [],
   "source": [
    "let x, y;\n",
    "\n",
    "x = 3;\n",
    "y = x + 8;\n",
    "\n",
    "console.log(x);\n",
    "console.log(y);"
   ]
  },
  {
   "cell_type": "markdown",
   "metadata": {},
   "source": [
    "### 'Rolling' assignment\n",
    "\n",
    "You will often see the assignment operator combined with arithmetic.  This is\n",
    "useful for modifying the value of a variable, rather than completely overwriting\n",
    "it.  See below for an example."
   ]
  },
  {
   "cell_type": "code",
   "execution_count": 3,
   "metadata": {},
   "outputs": [
    {
     "name": "stdout",
     "output_type": "stream",
     "text": [
      "Initial assignment of score is 10\n",
      "Adding 1, current value of score is 11\n",
      "Adding 10, current value of score is 21\n",
      "Subtracting 5, current value of score is 16\n",
      "Dividing by 2, current value of score is 8\n",
      "Multiplying by 10, current value of score is 80\n",
      "Regular assignment of 65 to score, current value of score is 65\n"
     ]
    }
   ],
   "source": [
    "let score = 10;\n",
    "console.log('Initial assignment of score is ' + score);\n",
    "score += 1; //Add 1 to the current value of score\n",
    "console.log('Adding 1, current value of score is ' + score);\n",
    "score += 10; //Add 10 to the current value of score\n",
    "console.log('Adding 10, current value of score is ' + score);\n",
    "score -= 5; //Subtract 5 from the current value of score\n",
    "console.log('Subtracting 5, current value of score is ' + score);\n",
    "score /= 2; //Divide the current value of score by 2\n",
    "console.log('Dividing by 2, current value of score is ' + score);\n",
    "score *= 10; //Multiply the current value of score by 10\n",
    "console.log('Multiplying by 10, current value of score is ' + score);\n",
    "\n",
    "score = 65; //Completely overwrite the value of score to be 65\n",
    "console.log('Regular assignment of 65 to score, current value of score is ' + score);\n",
    "\n"
   ]
  },
  {
   "cell_type": "markdown",
   "metadata": {},
   "source": [
    "A statement like `score += 10;` is exactly equivalent to `score =\n",
    "score + 10;`.  Using `+=` is basically a shortcut, allowing us to write code\n",
    "more quickly and easily."
   ]
  },
  {
   "cell_type": "code",
   "execution_count": 2,
   "metadata": {},
   "outputs": [
    {
     "name": "stdout",
     "output_type": "stream",
     "text": [
      "Current value of x is 15\n",
      "Current value of y is 15\n",
      "x = y -> true\n"
     ]
    }
   ],
   "source": [
    "//Lines 2 and 6 are doing the same thing, but line 2 is easier to read and write\n",
    "\n",
    "let x = 5;\n",
    "x += 10; //Line 2\n",
    "console.log('Current value of x is ' + x);\n",
    "\n",
    "let y = 5;\n",
    "y = y + 10;//Line 6\n",
    "console.log('Current value of y is ' + y);\n",
    "\n",
    "console.log('x = y -> ' + (x == y));"
   ]
  },
  {
   "cell_type": "markdown",
   "metadata": {},
   "source": [
    "### Increment and Decrement\n",
    "\n",
    "Adding and/or subtracting 1 is so common is programming that we have special\n",
    "shortcuts we can use for just those purposes.  We use `++` for **incrementing** by 1\n",
    "and `--` for **decrementing** by 1.  See it in action below!"
   ]
  },
  {
   "cell_type": "code",
   "execution_count": null,
   "metadata": {},
   "outputs": [],
   "source": [
    "let count = 0;      // Starting at 0\n",
    "count++;            // Increment count\n",
    "console.log(count); // Prints '1'\n",
    "count++;\n",
    "count++;\n",
    "console.log(count); // Prints '3'\n",
    "count--;            // Decrement count\n",
    "console.log(count); // Prints '2'"
   ]
  },
  {
   "cell_type": "markdown",
   "metadata": {},
   "source": [
    "This will become very prevalent when we begin to talk about loops!"
   ]
  }
 ],
 "metadata": {
  "kernelspec": {
   "display_name": "JavaScript",
   "language": "javascript",
   "name": "jslab"
  },
  "language_info": {
   "file_extension": ".js",
   "mimetype": "text/javascript",
   "name": "javascript",
   "version": ""
  },
  "orig_nbformat": 4
 },
 "nbformat": 4,
 "nbformat_minor": 2
}
