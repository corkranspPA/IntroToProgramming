{
 "cells": [
  {
   "cell_type": "markdown",
   "metadata": {},
   "source": [
    "# Printing\n",
    "\n",
    "## The Console\n",
    "The **console** is a panel that displays important messages, like errors, for developers. Much of the work the computer does with our code is invisible to us by default. If we want to see things appear on our screen, we can print, or **log**, to our console directly.\n",
    "\n",
    "In JavaScript, the console keyword refers to an **object**, a collection of data and actions, that we can use in our code. **Keywords** are words that are built into the JavaScript language, so the computer recognizes them and treats them specially.\n",
    "\n",
    "One action, or **function**, that is built into the console object is the **.log()** method. When we write `console.log()`, what we put inside the parentheses will get printed, or logged, to the console.\n",
    "\n",
    "It’s going to be very useful for us to print values to the console, so we can\n",
    "see the work that we’re doing. Try running the code cell below, which will log\n",
    "5 to the console. Feel free to try changing the value in the parentheses!"
   ]
  },
  {
   "cell_type": "code",
   "execution_count": null,
   "metadata": {},
   "outputs": [],
   "source": [
    "console.log(5);\n"
   ]
  },
  {
   "cell_type": "markdown",
   "metadata": {},
   "source": [
    "The semicolon `;` denotes the end of the line, or statement. **Although in\n",
    "JavaScript your code will usually run as intended without a semicolon, I\n",
    "recommend learning the habit of ending each statement with a semicolon so you\n",
    "never leave one out in the few instances when they are required.**\n",
    "\n",
    "Go ahead and try using console.log() to print your age to the console in the\n",
    "code cell below. Note that lines starting with a `//` are ignored by the\n",
    "computer.  These are called **comments** and can explain what the code is doing, leave instructions for developers using the code, or add any other useful annotations."
   ]
  },
  {
   "cell_type": "code",
   "execution_count": null,
   "metadata": {},
   "outputs": [],
   "source": [
    "// Start writing your code below this line!\n"
   ]
  },
  {
   "cell_type": "markdown",
   "metadata": {},
   "source": [
    "Let's do one more.  Write a console.log statement to print the number of weeks\n",
    "you have been programming."
   ]
  },
  {
   "cell_type": "code",
   "execution_count": null,
   "metadata": {},
   "outputs": [],
   "source": [
    "// Once again, start writing your code under this line!\n"
   ]
  }
 ],
 "metadata": {
  "kernelspec": {
   "display_name": "JavaScript",
   "language": "javascript",
   "name": "jslab"
  },
  "language_info": {
   "file_extension": ".js",
   "mimetype": "text/javascript",
   "name": "javascript",
   "version": ""
  },
  "orig_nbformat": 4
 },
 "nbformat": 4,
 "nbformat_minor": 2
}
